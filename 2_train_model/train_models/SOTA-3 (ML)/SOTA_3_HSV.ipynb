{
 "cells": [
  {
   "cell_type": "markdown",
   "id": "852243fe",
   "metadata": {},
   "source": [
    "# [Sign language dactyl recognition based on machine learning algorithms](https://www.researchgate.net/publication/354349413_Sign_language_dactyl_recognition_based_on_machine_learning_algorithms)"
   ]
  },
  {
   "cell_type": "code",
   "execution_count": null,
   "id": "e9a47f44",
   "metadata": {},
   "outputs": [],
   "source": [
    "import numpy as np \n",
    "import pandas as pd \n",
    "import glob\n",
    "import os\n",
    "import cv2\n",
    "from sklearn.model_selection import train_test_split\n",
    "import matplotlib.pyplot as plt\n",
    "import tensorflow as tf\n",
    "from PIL import Image\n",
    "import keras\n",
    "from sklearn.preprocessing import LabelEncoder\n"
   ]
  },
  {
   "cell_type": "code",
   "execution_count": null,
   "id": "72c38bd0",
   "metadata": {},
   "outputs": [],
   "source": [
    "TEST_DATA_PATH = '/Users/kamilla/Desktop/masters_diploma/SOTA_MODELS/data/croped_test_29_04_cv'\n",
    "TRAIN_DATA_PATH = '/Users/kamilla/Desktop/masters_diploma/SOTA_MODELS/data/croped_train_29_04_cv'\n",
    "#VAL_DATA_PATH = '/Users/kamilla/Desktop/masters_diploma/SOTA_MODELS/SOTA_3/data_SOTA_3/temp_val'\n",
    "\n",
    "# Создадим датафрейм, где будем сохранять путь до картинки и ее лейбл\n",
    "\n",
    "dactyl = [\"А\", \"Б\", \"В\", \"Г\", \"Е\",\n",
    "          \"Ж\", \"И\", \"К\", \"Л\", \"М\",\n",
    "          \"Н\", \"О\", \"П\", \"Р\", \"С\",\n",
    "          \"Т\", \"У\", \"Ф\", \"Х\", \"Ч\",\n",
    "          \"Ш\", \"Ы\", \"Э\", \"Ю\", \"Я\"]\n",
    "\n",
    "def get_metadata(data_path):\n",
    "    list_path = []\n",
    "    list_labels = []\n",
    "    for label in dactyl:\n",
    "        label_path = os.path.join(data_path, label, \"*\")\n",
    "        image_files = glob.glob(label_path)\n",
    "\n",
    "        sign_label = [label] * len(image_files)\n",
    "\n",
    "        list_path.extend(image_files)\n",
    "        list_labels.extend(sign_label)\n",
    "\n",
    "    metadata = pd.DataFrame({\n",
    "        \"image_path\": list_path,\n",
    "        \"label\": list_labels\n",
    "    })\n",
    "    return metadata\n",
    "\n",
    "train_df = get_metadata(TRAIN_DATA_PATH)\n",
    "print(f\"DataFrame for train is ready. Processed {len(train_df)}\")\n",
    "test_df = get_metadata(TEST_DATA_PATH)\n",
    "print(f\"DataFrame for test is ready. Processed {len(test_df)}\")\n",
    "#val_df = get_metadata(VAL_DATA_PATH)\n",
    "#print(f\"DataFrame for val is ready. Processed {len(val_df)}\")"
   ]
  },
  {
   "cell_type": "code",
   "execution_count": null,
   "id": "a217b81d",
   "metadata": {},
   "outputs": [],
   "source": [
    "y_train, x_train = train_df['label'], train_df['image_path']\n",
    "y_test, x_test = test_df['label'], test_df['image_path']\n",
    "#y_val, x_val = val_df['label'], val_df['image_path']\n"
   ]
  },
  {
   "cell_type": "code",
   "execution_count": null,
   "id": "ca3a058b",
   "metadata": {},
   "outputs": [],
   "source": [
    "le = LabelEncoder()\n",
    "le.fit(y_train)\n",
    "y_train_encoded = le.transform(y_train)\n",
    "y_train_cat = keras.utils.to_categorical(y_train_encoded)\n",
    "\n",
    "y_test_encoded = le.transform(y_test)\n",
    "y_test_cat = keras.utils.to_categorical(y_test_encoded)\n",
    "\n",
    "#y_val_encoded = le.transform(y_val_prep)\n",
    "#y_val_cat = keras.utils.to_categorical(y_val_encoded)"
   ]
  },
  {
   "cell_type": "code",
   "execution_count": null,
   "id": "f23a9a28",
   "metadata": {},
   "outputs": [],
   "source": [
    "x_train_images[0]"
   ]
  },
  {
   "cell_type": "code",
   "execution_count": null,
   "id": "d1a95ccc",
   "metadata": {},
   "outputs": [],
   "source": [
    "def load_and_preprocess_image(image_path, y_data, target_size=(32, 32), augmentation=False):\n",
    "    skin_segmentation_images = []\n",
    "    labels = []\n",
    "    if image_path.endswith(\".jpg\") or image_path.endswith(\".jpeg\"):\n",
    "        image = cv2.imread(image_path)        \n",
    "        hsv_image = cv2.cvtColor(image, cv2.COLOR_BGR2HSV)\n",
    "\n",
    "        # Define skin color range in HSV\n",
    "        lower_skin = np.array([0, 0, 0]) \n",
    "        upper_skin = np.array([38, 255, 255]) \n",
    "\n",
    "        skin_mask = cv2.inRange(hsv_image, lower_skin, upper_skin)\n",
    "        skin_extracted_image = cv2.bitwise_and(image, image, mask=skin_mask)\n",
    "        \n",
    "        if augmentation:\n",
    "            rotation_degrees = np.random.choice(range(-20, 21), 10, replace=False)\n",
    "            for angle in rotation_degrees:\n",
    "                rotated_image = rotate(skin_extracted_image, angle, reshape=False)\n",
    "                rotated_image_resized = cv2.resize(rotated_image, target_size)\n",
    "                skin_segmentation_images.append(rotated_image_resized.flatten())\n",
    "                labels.append(y_data)\n",
    "        else:\n",
    "            image_resized = cv2.resize(skin_extracted_image, target_size)\n",
    "            skin_segmentation_images.append(image_resized.flatten())\n",
    "            labels.append(y_data)\n",
    "        \n",
    "    return skin_segmentation_images, labels\n",
    "\n",
    "\"\"\"x_train_images = []\n",
    "y_train_label = []\n",
    "for image_path, y in zip(x_train, y_train):\n",
    "    image_array, label = load_and_preprocess_image(image_path, y, augmentation=True)\n",
    "    x_train_images.extend(image_array)\n",
    "    y_train_label.extend(label)\n",
    "x_train_images = np.array(x_train_images)\"\"\"\n",
    "\n",
    "x_test_images = []\n",
    "y_test_label = []\n",
    "for image_path, y in zip(x_test, y_test):\n",
    "    print(image_path)\n",
    "    image_array, label = load_and_preprocess_image(image_path, y, augmentation=True)\n",
    "    x_test_images.extend(image_array)\n",
    "    y_test_label.extend(label)\n",
    "x_test_images = np.array(x_train_images)\n"
   ]
  },
  {
   "cell_type": "code",
   "execution_count": null,
   "id": "f3431c0c",
   "metadata": {},
   "outputs": [],
   "source": [
    "print(np.array(x_train_prep).shape)\n",
    "\n",
    "print(len(y_train_label))"
   ]
  },
  {
   "cell_type": "markdown",
   "id": "e335e970",
   "metadata": {},
   "source": [
    "# SVM "
   ]
  },
  {
   "cell_type": "code",
   "execution_count": null,
   "id": "e92614fc",
   "metadata": {},
   "outputs": [],
   "source": [
    "from sklearn.svm import SVC\n",
    "from sklearn.metrics import classification_report\n",
    "\n",
    "# train the model on train set \n",
    "model_SVM = SVC() \n",
    "model_SVM.fit(x_train_images, y_train_label) \n",
    "\n",
    "# print prediction results \n",
    "#predictions = model.predict(x_test_images) \n",
    "#print(classification_report(y_test_encoded, predictions)) "
   ]
  },
  {
   "cell_type": "code",
   "execution_count": null,
   "id": "c6dde661",
   "metadata": {},
   "outputs": [],
   "source": [
    "predictions = model_SVM.predict(x_test_images) \n",
    "print(classification_report(y_test_encoded, predictions))"
   ]
  },
  {
   "cell_type": "code",
   "execution_count": null,
   "id": "c5474b56",
   "metadata": {},
   "outputs": [],
   "source": [
    "from sklearn.metrics import precision_score, recall_score, f1_score\n",
    "\n",
    "precision = precision_score(y_test_encoded, predictions, average='weighted')\n",
    "recall = recall_score(y_test_encoded, predictions, average='weighted')\n",
    "f1 = f1_score(y_test_encoded, predictions, average='weighted')\n",
    "\n",
    "print(\"Precision:\", precision)\n",
    "print(\"Recall:\", recall)\n",
    "print(\"F1-score:\", f1)"
   ]
  },
  {
   "cell_type": "code",
   "execution_count": null,
   "id": "8e79a1ce",
   "metadata": {},
   "outputs": [],
   "source": [
    "# Попробуем поменять параметры \n",
    "from sklearn.model_selection import GridSearchCV \n",
    "  \n",
    "# defining parameter range \n",
    "param_grid = {'C': [0.0001, 0.001, 0.01, 0.1],  \n",
    "              'gamma': [0.0001, 0.001, 0.01, 0.1], \n",
    "              'kernel': ['poly', 'linear']}  \n",
    "  \n",
    "grid_SVM = GridSearchCV(SVC(), param_grid, refit = True, verbose = 3) \n",
    "  \n",
    "# fitting the model for grid search \n",
    "grid_SVM.fit(x_train_images, y_train_encoded) "
   ]
  },
  {
   "cell_type": "code",
   "execution_count": null,
   "id": "82c010be",
   "metadata": {},
   "outputs": [],
   "source": [
    "# print best parameter after tuning \n",
    "print(grid_SVM.best_params_) \n",
    "# print how our model looks after hyper-parameter tuning \n",
    "print(grid_SVM.best_estimator_) \n",
    "grid_predictions_SVM = grid_SVM.predict(x_test_images)   \n",
    "# print classification report \n",
    "print(classification_report(y_test_encoded, grid_predictions_SVM)) "
   ]
  },
  {
   "cell_type": "markdown",
   "id": "b6c1cd31",
   "metadata": {},
   "source": [
    "# RandomForest"
   ]
  },
  {
   "cell_type": "code",
   "execution_count": null,
   "id": "0258b4f2",
   "metadata": {},
   "outputs": [],
   "source": [
    "RANDOM_STATE = 128"
   ]
  },
  {
   "cell_type": "code",
   "execution_count": null,
   "id": "ba2abc97",
   "metadata": {},
   "outputs": [],
   "source": [
    "from sklearn.ensemble import RandomForestClassifier\n",
    "\n",
    "\n",
    "model_RFC = RandomForestClassifier(random_state=RANDOM_STATE) \n",
    "model_RFC.fit(x_train_images, y_train_encoded) \n",
    "\n",
    "# print prediction results \n",
    "predictions_RFC = model_RFC.predict(x_test_images) \n",
    "print(classification_report(y_test_encoded, predictions_RFC)) "
   ]
  },
  {
   "cell_type": "code",
   "execution_count": null,
   "id": "a7365f73",
   "metadata": {},
   "outputs": [],
   "source": [
    "from sklearn.metrics import precision_score, recall_score, f1_score\n",
    "\n",
    "precision = precision_score(y_test_encoded, predictions_RFC, average='weighted')\n",
    "recall = recall_score(y_test_encoded, predictions_RFC, average='weighted')\n",
    "f1 = f1_score(y_test_encoded, predictions_RFC, average='weighted')\n",
    "\n",
    "print(\"Precision:\", precision)\n",
    "print(\"Recall:\", recall)\n",
    "print(\"F1-score:\", f1)"
   ]
  },
  {
   "cell_type": "code",
   "execution_count": null,
   "id": "007179d5",
   "metadata": {},
   "outputs": [],
   "source": [
    "param_grid = { \n",
    "    'n_estimators': [100,300,400],\n",
    "    'max_features': ['sqrt'],\n",
    "    'max_depth' : [1,2,5,10,30],\n",
    "    'criterion' :['gini', 'entropy']\n",
    "}\n",
    "\n",
    "grid_RFC = GridSearchCV(RandomForestClassifier(), param_grid, refit = True, verbose = 3) \n",
    "grid_RFC.fit(x_train_images, y_train_encoded) \n",
    " "
   ]
  },
  {
   "cell_type": "code",
   "execution_count": null,
   "id": "9b5f8c33",
   "metadata": {},
   "outputs": [],
   "source": [
    "# print best parameter after tuning \n",
    "print(grid_RFC.best_params_) \n",
    "# print how our model looks after hyper-parameter tuning \n",
    "print(grid_RFC.best_estimator_) \n",
    "grid_predictions_RFC = grid_RFC.best_estimator_.predict(x_test_images)   \n",
    "# print classification report \n",
    "print(classification_report(y_test_encoded, grid_predictions_RFC)) "
   ]
  },
  {
   "cell_type": "code",
   "execution_count": null,
   "id": "404e81db",
   "metadata": {},
   "outputs": [],
   "source": []
  },
  {
   "cell_type": "markdown",
   "id": "a847c752",
   "metadata": {},
   "source": [
    "# XGBoost"
   ]
  },
  {
   "cell_type": "code",
   "execution_count": null,
   "id": "cd958ff5",
   "metadata": {
    "scrolled": true
   },
   "outputs": [],
   "source": [
    "import xgboost as xgb\n",
    "from sklearn.model_selection import GridSearchCV \n",
    "from sklearn.metrics import classification_report\n",
    "\n",
    "\n",
    "xgb_model = xgb.XGBClassifier(objective=\"multi:softprob\", random_state=42)\n",
    "xgb_model.fit(x_train_images, y_train_encoded)\n",
    "\n",
    "y_pred_XGB = xgb_model.predict(x_test_images)\n",
    "\n",
    "print(classification_report(y_test_encoded, y_pred_XGB))\n"
   ]
  },
  {
   "cell_type": "code",
   "execution_count": null,
   "id": "981265bf",
   "metadata": {},
   "outputs": [],
   "source": [
    "from sklearn.metrics import precision_score, recall_score, f1_score\n",
    "\n",
    "precision = precision_score(y_test_encoded, y_pred_XGB, average='weighted')\n",
    "recall = recall_score(y_test_encoded, y_pred_XGB, average='weighted')\n",
    "f1 = f1_score(y_test_encoded, y_pred_XGB, average='weighted')\n",
    "\n",
    "print(\"Precision:\", precision)\n",
    "print(\"Recall:\", recall)\n",
    "print(\"F1-score:\", f1)\n",
    "\n"
   ]
  },
  {
   "cell_type": "code",
   "execution_count": null,
   "id": "8dee5508",
   "metadata": {},
   "outputs": [],
   "source": [
    "params = {\n",
    "    'n_estimators': [100,300],  # Количество деревьев в ансамбле\n",
    "    'max_depth': [3, 9],             # Максимальная глубина дерева\n",
    "    'learning_rate': [0.1, 0.01, 0.001],# Скорость обучения\n",
    "}\n",
    "\n",
    "grid_XGB = GridSearchCV(xgb.XGBClassifier(objective=\"multi:softprob\"), params, refit=True, verbose=2) \n",
    "grid_XGB.fit(x_train_images, y_train_encoded)"
   ]
  },
  {
   "cell_type": "code",
   "execution_count": null,
   "id": "8bc27d33",
   "metadata": {},
   "outputs": [],
   "source": [
    "# print best parameter after tuning \n",
    "print(grid_XGB.best_params_) \n",
    "# print how our model looks after hyper-parameter tuning \n",
    "print(grid_XGB.best_estimator_) \n",
    "grid_predictions_XGB = grid_XGB.best_estimator_.predict(x_test_images)   \n",
    "# print classification report \n",
    "print(classification_report(y_test_encoded, grid_predictions_XGB))"
   ]
  },
  {
   "cell_type": "code",
   "execution_count": null,
   "id": "cd1fffe0",
   "metadata": {},
   "outputs": [],
   "source": []
  }
 ],
 "metadata": {
  "kernelspec": {
   "display_name": "Python 3 (ipykernel)",
   "language": "python",
   "name": "python3"
  },
  "language_info": {
   "codemirror_mode": {
    "name": "ipython",
    "version": 3
   },
   "file_extension": ".py",
   "mimetype": "text/x-python",
   "name": "python",
   "nbconvert_exporter": "python",
   "pygments_lexer": "ipython3",
   "version": "3.11.6"
  }
 },
 "nbformat": 4,
 "nbformat_minor": 5
}
