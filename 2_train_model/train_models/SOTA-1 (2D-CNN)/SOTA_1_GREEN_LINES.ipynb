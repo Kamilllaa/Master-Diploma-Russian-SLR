{
 "cells": [
  {
   "cell_type": "markdown",
   "id": "852243fe",
   "metadata": {},
   "source": [
    "# [Sign language dactyl recognition based on machine learning algorithms](https://www.researchgate.net/publication/354349413_Sign_language_dactyl_recognition_based_on_machine_learning_algorithms)"
   ]
  },
  {
   "cell_type": "code",
   "execution_count": null,
   "id": "e9a47f44",
   "metadata": {},
   "outputs": [],
   "source": [
    "import numpy as np \n",
    "import pandas as pd \n",
    "import glob\n",
    "import os\n",
    "import cv2\n",
    "from sklearn.model_selection import train_test_split\n",
    "import matplotlib.pyplot as plt\n",
    "import tensorflow as tf\n",
    "from PIL import Image\n",
    "import keras\n",
    "from sklearn.preprocessing import LabelEncoder\n"
   ]
  },
  {
   "cell_type": "code",
   "execution_count": 3,
   "id": "72c38bd0",
   "metadata": {},
   "outputs": [
    {
     "name": "stdout",
     "output_type": "stream",
     "text": [
      "DataFrame for train is ready. Processed 2339\n",
      "DataFrame for test is ready. Processed 259\n"
     ]
    }
   ],
   "source": [
    "RANDOM_STATE = 1228\n",
    "keras.utils.set_random_seed(RANDOM_STATE)\n",
    "np.random.seed(RANDOM_STATE)\n",
    "\n",
    "TEST_DATA_PATH = '/Users/kamilla/Desktop/masters_diploma/SOTA_MODELS/SOTA_3/data_SOTA_3/green_images/green_test_01_06_mp_2'\n",
    "TRAIN_DATA_PATH = '/Users/kamilla/Desktop/masters_diploma/SOTA_MODELS/SOTA_3/data_SOTA_3/green_images/green_train_01_06_mp_2'\n",
    "#VAL_DATA_PATH = '/Users/kamilla/Desktop/masters_diploma/SOTA_MODELS/SOTA_3/data_SOTA_3/temp_val'\n",
    "\n",
    "# Создадим датафрейм, где будем сохранять путь до картинки и ее лейбл\n",
    "\n",
    "dactyl = [\"А\", \"Б\", \"В\", \"Г\", \"Е\",\n",
    "          \"Ж\", \"И\", \"К\", \"Л\", \"М\",\n",
    "          \"Н\", \"О\", \"П\", \"Р\", \"С\",\n",
    "          \"Т\", \"У\", \"Ф\", \"Х\", \"Ч\",\n",
    "          \"Ш\", \"Ы\", \"Э\", \"Ю\", \"Я\"]\n",
    "\n",
    "def get_metadata(data_path):\n",
    "    list_path = []\n",
    "    list_labels = []\n",
    "    for label in dactyl:\n",
    "        label_path = os.path.join(data_path, label, \"*\")\n",
    "        image_files = glob.glob(label_path)\n",
    "\n",
    "        sign_label = [label] * len(image_files)\n",
    "\n",
    "        list_path.extend(image_files)\n",
    "        list_labels.extend(sign_label)\n",
    "\n",
    "    metadata = pd.DataFrame({\n",
    "        \"image_path\": list_path,\n",
    "        \"label\": list_labels\n",
    "    })\n",
    "    return metadata\n",
    "\n",
    "train_df = get_metadata(TRAIN_DATA_PATH)\n",
    "print(f\"DataFrame for train is ready. Processed {len(train_df)}\")\n",
    "test_df = get_metadata(TEST_DATA_PATH)\n",
    "print(f\"DataFrame for test is ready. Processed {len(test_df)}\")\n",
    "#val_df = get_metadata(VAL_DATA_PATH)\n",
    "#print(f\"DataFrame for val is ready. Processed {len(val_df)}\")"
   ]
  },
  {
   "cell_type": "code",
   "execution_count": 4,
   "id": "a217b81d",
   "metadata": {},
   "outputs": [],
   "source": [
    "y_train, x_train = train_df['label'], train_df['image_path']\n",
    "y_test, x_test = test_df['label'], test_df['image_path']\n",
    "#y_val, x_val = val_df['label'], val_df['image_path']\n",
    "\n",
    "x_train.reset_index(inplace=True, drop=True)\n",
    "#x_val.reset_index(inplace=True, drop=True)\n",
    "x_test.reset_index(inplace=True, drop=True)\n",
    "y_train.reset_index(inplace=True, drop=True)\n",
    "#y_val.reset_index(inplace=True, drop=True)\n",
    "y_test.reset_index(inplace=True, drop=True)"
   ]
  },
  {
   "cell_type": "code",
   "execution_count": 5,
   "id": "420d2b88",
   "metadata": {},
   "outputs": [],
   "source": [
    "def get_images(data):\n",
    "    new_data = []\n",
    "    for image in range(len(data)):\n",
    "        if data[image].endswith(\".jpg\") or data[image].endswith(\".jpeg\") or data[image].endswith(\".JPG\"):\n",
    "            numpy_image = cv2.imread(data[image], cv2.COLOR_RGB2BGR)\n",
    "            #image_resized = cv2.resize(numpy_image, (64, 64))\n",
    "            new_data.append(numpy_image)\n",
    "    return new_data\n",
    "\n",
    "\n",
    "x_train_images = get_images(x_train)\n",
    "x_test_images = get_images(x_test)"
   ]
  },
  {
   "cell_type": "code",
   "execution_count": 6,
   "id": "ca3a058b",
   "metadata": {},
   "outputs": [],
   "source": [
    "le = LabelEncoder()\n",
    "le.fit(y_train)\n",
    "y_train_encoded = le.transform(y_train)\n",
    "y_train_cat = keras.utils.to_categorical(y_train_encoded)\n",
    "\n",
    "y_test_encoded = le.transform(y_test)\n",
    "y_test_cat = keras.utils.to_categorical(y_test_encoded)\n",
    "\n",
    "#y_val_encoded = le.transform(y_val_prep)\n",
    "#y_val_cat = keras.utils.to_categorical(y_val_encoded)"
   ]
  },
  {
   "cell_type": "code",
   "execution_count": 7,
   "id": "cd1fffe0",
   "metadata": {},
   "outputs": [],
   "source": [
    "from keras.models import Sequential\n",
    "from keras.layers import Conv2D, MaxPooling2D, Activation, Dense, Flatten, Dropout, Input\n",
    "from keras.callbacks import ModelCheckpoint\n"
   ]
  },
  {
   "cell_type": "code",
   "execution_count": 8,
   "id": "80d8ceff",
   "metadata": {},
   "outputs": [
    {
     "name": "stderr",
     "output_type": "stream",
     "text": [
      "/opt/homebrew/lib/python3.11/site-packages/keras/src/layers/convolutional/base_conv.py:107: UserWarning: Do not pass an `input_shape`/`input_dim` argument to a layer. When using Sequential models, prefer using an `Input(shape)` object as the first layer in the model instead.\n",
      "  super().__init__(activity_regularizer=activity_regularizer, **kwargs)\n"
     ]
    },
    {
     "data": {
      "text/html": [
       "<pre style=\"white-space:pre;overflow-x:auto;line-height:normal;font-family:Menlo,'DejaVu Sans Mono',consolas,'Courier New',monospace\"><span style=\"font-weight: bold\">Model: \"sequential\"</span>\n",
       "</pre>\n"
      ],
      "text/plain": [
       "\u001b[1mModel: \"sequential\"\u001b[0m\n"
      ]
     },
     "metadata": {},
     "output_type": "display_data"
    },
    {
     "data": {
      "text/html": [
       "<pre style=\"white-space:pre;overflow-x:auto;line-height:normal;font-family:Menlo,'DejaVu Sans Mono',consolas,'Courier New',monospace\">┏━━━━━━━━━━━━━━━━━━━━━━━━━━━━━━━━━┳━━━━━━━━━━━━━━━━━━━━━━━━┳━━━━━━━━━━━━━━━┓\n",
       "┃<span style=\"font-weight: bold\"> Layer (type)                    </span>┃<span style=\"font-weight: bold\"> Output Shape           </span>┃<span style=\"font-weight: bold\">       Param # </span>┃\n",
       "┡━━━━━━━━━━━━━━━━━━━━━━━━━━━━━━━━━╇━━━━━━━━━━━━━━━━━━━━━━━━╇━━━━━━━━━━━━━━━┩\n",
       "│ conv2d (<span style=\"color: #0087ff; text-decoration-color: #0087ff\">Conv2D</span>)                 │ (<span style=\"color: #00d7ff; text-decoration-color: #00d7ff\">None</span>, <span style=\"color: #00af00; text-decoration-color: #00af00\">125</span>, <span style=\"color: #00af00; text-decoration-color: #00af00\">125</span>, <span style=\"color: #00af00; text-decoration-color: #00af00\">15</span>)   │           <span style=\"color: #00af00; text-decoration-color: #00af00\">735</span> │\n",
       "├─────────────────────────────────┼────────────────────────┼───────────────┤\n",
       "│ max_pooling2d (<span style=\"color: #0087ff; text-decoration-color: #0087ff\">MaxPooling2D</span>)    │ (<span style=\"color: #00d7ff; text-decoration-color: #00d7ff\">None</span>, <span style=\"color: #00af00; text-decoration-color: #00af00\">62</span>, <span style=\"color: #00af00; text-decoration-color: #00af00\">62</span>, <span style=\"color: #00af00; text-decoration-color: #00af00\">15</span>)     │             <span style=\"color: #00af00; text-decoration-color: #00af00\">0</span> │\n",
       "├─────────────────────────────────┼────────────────────────┼───────────────┤\n",
       "│ conv2d_1 (<span style=\"color: #0087ff; text-decoration-color: #0087ff\">Conv2D</span>)               │ (<span style=\"color: #00d7ff; text-decoration-color: #00d7ff\">None</span>, <span style=\"color: #00af00; text-decoration-color: #00af00\">62</span>, <span style=\"color: #00af00; text-decoration-color: #00af00\">62</span>, <span style=\"color: #00af00; text-decoration-color: #00af00\">30</span>)     │           <span style=\"color: #00af00; text-decoration-color: #00af00\">480</span> │\n",
       "├─────────────────────────────────┼────────────────────────┼───────────────┤\n",
       "│ max_pooling2d_1 (<span style=\"color: #0087ff; text-decoration-color: #0087ff\">MaxPooling2D</span>)  │ (<span style=\"color: #00d7ff; text-decoration-color: #00d7ff\">None</span>, <span style=\"color: #00af00; text-decoration-color: #00af00\">31</span>, <span style=\"color: #00af00; text-decoration-color: #00af00\">31</span>, <span style=\"color: #00af00; text-decoration-color: #00af00\">30</span>)     │             <span style=\"color: #00af00; text-decoration-color: #00af00\">0</span> │\n",
       "├─────────────────────────────────┼────────────────────────┼───────────────┤\n",
       "│ flatten (<span style=\"color: #0087ff; text-decoration-color: #0087ff\">Flatten</span>)               │ (<span style=\"color: #00d7ff; text-decoration-color: #00d7ff\">None</span>, <span style=\"color: #00af00; text-decoration-color: #00af00\">28830</span>)          │             <span style=\"color: #00af00; text-decoration-color: #00af00\">0</span> │\n",
       "├─────────────────────────────────┼────────────────────────┼───────────────┤\n",
       "│ dropout (<span style=\"color: #0087ff; text-decoration-color: #0087ff\">Dropout</span>)               │ (<span style=\"color: #00d7ff; text-decoration-color: #00d7ff\">None</span>, <span style=\"color: #00af00; text-decoration-color: #00af00\">28830</span>)          │             <span style=\"color: #00af00; text-decoration-color: #00af00\">0</span> │\n",
       "├─────────────────────────────────┼────────────────────────┼───────────────┤\n",
       "│ dense (<span style=\"color: #0087ff; text-decoration-color: #0087ff\">Dense</span>)                   │ (<span style=\"color: #00d7ff; text-decoration-color: #00d7ff\">None</span>, <span style=\"color: #00af00; text-decoration-color: #00af00\">25</span>)             │       <span style=\"color: #00af00; text-decoration-color: #00af00\">720,775</span> │\n",
       "└─────────────────────────────────┴────────────────────────┴───────────────┘\n",
       "</pre>\n"
      ],
      "text/plain": [
       "┏━━━━━━━━━━━━━━━━━━━━━━━━━━━━━━━━━┳━━━━━━━━━━━━━━━━━━━━━━━━┳━━━━━━━━━━━━━━━┓\n",
       "┃\u001b[1m \u001b[0m\u001b[1mLayer (type)                   \u001b[0m\u001b[1m \u001b[0m┃\u001b[1m \u001b[0m\u001b[1mOutput Shape          \u001b[0m\u001b[1m \u001b[0m┃\u001b[1m \u001b[0m\u001b[1m      Param #\u001b[0m\u001b[1m \u001b[0m┃\n",
       "┡━━━━━━━━━━━━━━━━━━━━━━━━━━━━━━━━━╇━━━━━━━━━━━━━━━━━━━━━━━━╇━━━━━━━━━━━━━━━┩\n",
       "│ conv2d (\u001b[38;5;33mConv2D\u001b[0m)                 │ (\u001b[38;5;45mNone\u001b[0m, \u001b[38;5;34m125\u001b[0m, \u001b[38;5;34m125\u001b[0m, \u001b[38;5;34m15\u001b[0m)   │           \u001b[38;5;34m735\u001b[0m │\n",
       "├─────────────────────────────────┼────────────────────────┼───────────────┤\n",
       "│ max_pooling2d (\u001b[38;5;33mMaxPooling2D\u001b[0m)    │ (\u001b[38;5;45mNone\u001b[0m, \u001b[38;5;34m62\u001b[0m, \u001b[38;5;34m62\u001b[0m, \u001b[38;5;34m15\u001b[0m)     │             \u001b[38;5;34m0\u001b[0m │\n",
       "├─────────────────────────────────┼────────────────────────┼───────────────┤\n",
       "│ conv2d_1 (\u001b[38;5;33mConv2D\u001b[0m)               │ (\u001b[38;5;45mNone\u001b[0m, \u001b[38;5;34m62\u001b[0m, \u001b[38;5;34m62\u001b[0m, \u001b[38;5;34m30\u001b[0m)     │           \u001b[38;5;34m480\u001b[0m │\n",
       "├─────────────────────────────────┼────────────────────────┼───────────────┤\n",
       "│ max_pooling2d_1 (\u001b[38;5;33mMaxPooling2D\u001b[0m)  │ (\u001b[38;5;45mNone\u001b[0m, \u001b[38;5;34m31\u001b[0m, \u001b[38;5;34m31\u001b[0m, \u001b[38;5;34m30\u001b[0m)     │             \u001b[38;5;34m0\u001b[0m │\n",
       "├─────────────────────────────────┼────────────────────────┼───────────────┤\n",
       "│ flatten (\u001b[38;5;33mFlatten\u001b[0m)               │ (\u001b[38;5;45mNone\u001b[0m, \u001b[38;5;34m28830\u001b[0m)          │             \u001b[38;5;34m0\u001b[0m │\n",
       "├─────────────────────────────────┼────────────────────────┼───────────────┤\n",
       "│ dropout (\u001b[38;5;33mDropout\u001b[0m)               │ (\u001b[38;5;45mNone\u001b[0m, \u001b[38;5;34m28830\u001b[0m)          │             \u001b[38;5;34m0\u001b[0m │\n",
       "├─────────────────────────────────┼────────────────────────┼───────────────┤\n",
       "│ dense (\u001b[38;5;33mDense\u001b[0m)                   │ (\u001b[38;5;45mNone\u001b[0m, \u001b[38;5;34m25\u001b[0m)             │       \u001b[38;5;34m720,775\u001b[0m │\n",
       "└─────────────────────────────────┴────────────────────────┴───────────────┘\n"
      ]
     },
     "metadata": {},
     "output_type": "display_data"
    },
    {
     "data": {
      "text/html": [
       "<pre style=\"white-space:pre;overflow-x:auto;line-height:normal;font-family:Menlo,'DejaVu Sans Mono',consolas,'Courier New',monospace\"><span style=\"font-weight: bold\"> Total params: </span><span style=\"color: #00af00; text-decoration-color: #00af00\">721,990</span> (2.75 MB)\n",
       "</pre>\n"
      ],
      "text/plain": [
       "\u001b[1m Total params: \u001b[0m\u001b[38;5;34m721,990\u001b[0m (2.75 MB)\n"
      ]
     },
     "metadata": {},
     "output_type": "display_data"
    },
    {
     "data": {
      "text/html": [
       "<pre style=\"white-space:pre;overflow-x:auto;line-height:normal;font-family:Menlo,'DejaVu Sans Mono',consolas,'Courier New',monospace\"><span style=\"font-weight: bold\"> Trainable params: </span><span style=\"color: #00af00; text-decoration-color: #00af00\">721,990</span> (2.75 MB)\n",
       "</pre>\n"
      ],
      "text/plain": [
       "\u001b[1m Trainable params: \u001b[0m\u001b[38;5;34m721,990\u001b[0m (2.75 MB)\n"
      ]
     },
     "metadata": {},
     "output_type": "display_data"
    },
    {
     "data": {
      "text/html": [
       "<pre style=\"white-space:pre;overflow-x:auto;line-height:normal;font-family:Menlo,'DejaVu Sans Mono',consolas,'Courier New',monospace\"><span style=\"font-weight: bold\"> Non-trainable params: </span><span style=\"color: #00af00; text-decoration-color: #00af00\">0</span> (0.00 B)\n",
       "</pre>\n"
      ],
      "text/plain": [
       "\u001b[1m Non-trainable params: \u001b[0m\u001b[38;5;34m0\u001b[0m (0.00 B)\n"
      ]
     },
     "metadata": {},
     "output_type": "display_data"
    }
   ],
   "source": [
    "model_1 = Sequential()\n",
    "model_1.add(Conv2D(15, 4, activation='relu', input_shape=(128,128,3)))\n",
    "model_1.add(MaxPooling2D(pool_size=(2, 2)))\n",
    "model_1.add(Conv2D(30, 1,  activation='relu', padding=\"same\", use_bias=True))\n",
    "model_1.add(MaxPooling2D(pool_size=(2, 2)))\n",
    "model_1.add(Flatten())\n",
    "model_1.add(Dropout(0.5))\n",
    "model_1.add(Dense(25, activation='softmax'))  # Adjust the number of units based on the problem (e.g., number of output classes)\n",
    "\n",
    "\n",
    "model_1.summary()"
   ]
  },
  {
   "cell_type": "code",
   "execution_count": 10,
   "id": "2d1a5881",
   "metadata": {},
   "outputs": [],
   "source": [
    "from tensorflow.keras.callbacks import EarlyStopping\n",
    "\n",
    "# Define early stopping callback\n",
    "early_stopping = EarlyStopping(monitor='val_accuracy', patience=10, mode='max', verbose=1)\n",
    "\n",
    "# Создаем объект ModelCheckpoint для сохранения лучших весов модели\n",
    "checkpoint = ModelCheckpoint(filepath='/Users/kamilla/Desktop/masters_diploma/SOTA_MODELS/SOTA_1/checkpointHSV.model.keras', \n",
    "                             monitor='val_accuracy', \n",
    "                             save_best_only=True,\n",
    "                            mode='max',\n",
    "                            verbose=1)\n",
    "\n",
    "model_1.compile(optimizer=tf.keras.optimizers.Adam(learning_rate=0.0001),\n",
    "              loss='categorical_crossentropy',\n",
    "              metrics=['accuracy'])\n",
    "\n",
    "x_train_prep = np.array(x_train_images)\n",
    "#x_val_prep = np.array(x_val_prep)\n",
    "x_test_prep = np.array(x_test_images)"
   ]
  },
  {
   "cell_type": "code",
   "execution_count": 12,
   "id": "4558dddb",
   "metadata": {},
   "outputs": [
    {
     "name": "stdout",
     "output_type": "stream",
     "text": [
      "Epoch 1/200\n",
      "\u001b[1m37/37\u001b[0m \u001b[32m━━━━━━━━━━━━━━━━━━━━\u001b[0m\u001b[37m\u001b[0m \u001b[1m0s\u001b[0m 192ms/step - accuracy: 0.1830 - loss: 25.5708\n",
      "Epoch 1: val_accuracy improved from -inf to 0.66795, saving model to /Users/kamilla/Desktop/masters_diploma/SOTA_MODELS/SOTA_1/checkpointHSV.model.keras\n",
      "\u001b[1m37/37\u001b[0m \u001b[32m━━━━━━━━━━━━━━━━━━━━\u001b[0m\u001b[37m\u001b[0m \u001b[1m9s\u001b[0m 209ms/step - accuracy: 0.1865 - loss: 25.3846 - val_accuracy: 0.6680 - val_loss: 5.6002\n",
      "Epoch 2/200\n",
      "\u001b[1m37/37\u001b[0m \u001b[32m━━━━━━━━━━━━━━━━━━━━\u001b[0m\u001b[37m\u001b[0m \u001b[1m0s\u001b[0m 191ms/step - accuracy: 0.6384 - loss: 6.7849\n",
      "Epoch 2: val_accuracy improved from 0.66795 to 0.74131, saving model to /Users/kamilla/Desktop/masters_diploma/SOTA_MODELS/SOTA_1/checkpointHSV.model.keras\n",
      "\u001b[1m37/37\u001b[0m \u001b[32m━━━━━━━━━━━━━━━━━━━━\u001b[0m\u001b[37m\u001b[0m \u001b[1m7s\u001b[0m 200ms/step - accuracy: 0.6386 - loss: 6.7813 - val_accuracy: 0.7413 - val_loss: 3.6480\n",
      "Epoch 3/200\n",
      "\u001b[1m37/37\u001b[0m \u001b[32m━━━━━━━━━━━━━━━━━━━━\u001b[0m\u001b[37m\u001b[0m \u001b[1m0s\u001b[0m 203ms/step - accuracy: 0.7366 - loss: 4.3793\n",
      "Epoch 3: val_accuracy improved from 0.74131 to 0.77992, saving model to /Users/kamilla/Desktop/masters_diploma/SOTA_MODELS/SOTA_1/checkpointHSV.model.keras\n",
      "\u001b[1m37/37\u001b[0m \u001b[32m━━━━━━━━━━━━━━━━━━━━\u001b[0m\u001b[37m\u001b[0m \u001b[1m8s\u001b[0m 211ms/step - accuracy: 0.7364 - loss: 4.3792 - val_accuracy: 0.7799 - val_loss: 3.0313\n",
      "Epoch 4/200\n",
      "\u001b[1m37/37\u001b[0m \u001b[32m━━━━━━━━━━━━━━━━━━━━\u001b[0m\u001b[37m\u001b[0m \u001b[1m0s\u001b[0m 199ms/step - accuracy: 0.7851 - loss: 3.2108\n",
      "Epoch 4: val_accuracy improved from 0.77992 to 0.78764, saving model to /Users/kamilla/Desktop/masters_diploma/SOTA_MODELS/SOTA_1/checkpointHSV.model.keras\n",
      "\u001b[1m37/37\u001b[0m \u001b[32m━━━━━━━━━━━━━━━━━━━━\u001b[0m\u001b[37m\u001b[0m \u001b[1m8s\u001b[0m 207ms/step - accuracy: 0.7852 - loss: 3.2058 - val_accuracy: 0.7876 - val_loss: 2.7124\n",
      "Epoch 5/200\n",
      "\u001b[1m37/37\u001b[0m \u001b[32m━━━━━━━━━━━━━━━━━━━━\u001b[0m\u001b[37m\u001b[0m \u001b[1m0s\u001b[0m 182ms/step - accuracy: 0.8265 - loss: 2.0225\n",
      "Epoch 5: val_accuracy improved from 0.78764 to 0.80309, saving model to /Users/kamilla/Desktop/masters_diploma/SOTA_MODELS/SOTA_1/checkpointHSV.model.keras\n",
      "\u001b[1m37/37\u001b[0m \u001b[32m━━━━━━━━━━━━━━━━━━━━\u001b[0m\u001b[37m\u001b[0m \u001b[1m7s\u001b[0m 189ms/step - accuracy: 0.8265 - loss: 2.0226 - val_accuracy: 0.8031 - val_loss: 2.5026\n",
      "Epoch 6/200\n",
      "\u001b[1m37/37\u001b[0m \u001b[32m━━━━━━━━━━━━━━━━━━━━\u001b[0m\u001b[37m\u001b[0m \u001b[1m0s\u001b[0m 166ms/step - accuracy: 0.8477 - loss: 1.8834\n",
      "Epoch 6: val_accuracy did not improve from 0.80309\n",
      "\u001b[1m37/37\u001b[0m \u001b[32m━━━━━━━━━━━━━━━━━━━━\u001b[0m\u001b[37m\u001b[0m \u001b[1m6s\u001b[0m 172ms/step - accuracy: 0.8477 - loss: 1.8806 - val_accuracy: 0.8031 - val_loss: 2.3245\n",
      "Epoch 7/200\n",
      "\u001b[1m37/37\u001b[0m \u001b[32m━━━━━━━━━━━━━━━━━━━━\u001b[0m\u001b[37m\u001b[0m \u001b[1m0s\u001b[0m 202ms/step - accuracy: 0.8763 - loss: 1.3584\n",
      "Epoch 7: val_accuracy improved from 0.80309 to 0.83398, saving model to /Users/kamilla/Desktop/masters_diploma/SOTA_MODELS/SOTA_1/checkpointHSV.model.keras\n",
      "\u001b[1m37/37\u001b[0m \u001b[32m━━━━━━━━━━━━━━━━━━━━\u001b[0m\u001b[37m\u001b[0m \u001b[1m8s\u001b[0m 212ms/step - accuracy: 0.8765 - loss: 1.3571 - val_accuracy: 0.8340 - val_loss: 2.2617\n",
      "Epoch 8/200\n",
      "\u001b[1m37/37\u001b[0m \u001b[32m━━━━━━━━━━━━━━━━━━━━\u001b[0m\u001b[37m\u001b[0m \u001b[1m0s\u001b[0m 184ms/step - accuracy: 0.8797 - loss: 1.0951\n",
      "Epoch 8: val_accuracy did not improve from 0.83398\n",
      "\u001b[1m37/37\u001b[0m \u001b[32m━━━━━━━━━━━━━━━━━━━━\u001b[0m\u001b[37m\u001b[0m \u001b[1m7s\u001b[0m 192ms/step - accuracy: 0.8798 - loss: 1.0926 - val_accuracy: 0.8185 - val_loss: 2.3029\n",
      "Epoch 9/200\n",
      "\u001b[1m37/37\u001b[0m \u001b[32m━━━━━━━━━━━━━━━━━━━━\u001b[0m\u001b[37m\u001b[0m \u001b[1m0s\u001b[0m 203ms/step - accuracy: 0.9014 - loss: 0.8469\n",
      "Epoch 9: val_accuracy did not improve from 0.83398\n",
      "\u001b[1m37/37\u001b[0m \u001b[32m━━━━━━━━━━━━━━━━━━━━\u001b[0m\u001b[37m\u001b[0m \u001b[1m8s\u001b[0m 210ms/step - accuracy: 0.9016 - loss: 0.8445 - val_accuracy: 0.8301 - val_loss: 2.1843\n",
      "Epoch 10/200\n",
      "\u001b[1m37/37\u001b[0m \u001b[32m━━━━━━━━━━━━━━━━━━━━\u001b[0m\u001b[37m\u001b[0m \u001b[1m0s\u001b[0m 197ms/step - accuracy: 0.9189 - loss: 0.6809\n",
      "Epoch 10: val_accuracy improved from 0.83398 to 0.85328, saving model to /Users/kamilla/Desktop/masters_diploma/SOTA_MODELS/SOTA_1/checkpointHSV.model.keras\n",
      "\u001b[1m37/37\u001b[0m \u001b[32m━━━━━━━━━━━━━━━━━━━━\u001b[0m\u001b[37m\u001b[0m \u001b[1m8s\u001b[0m 206ms/step - accuracy: 0.9190 - loss: 0.6798 - val_accuracy: 0.8533 - val_loss: 2.0744\n",
      "Epoch 11/200\n",
      "\u001b[1m37/37\u001b[0m \u001b[32m━━━━━━━━━━━━━━━━━━━━\u001b[0m\u001b[37m\u001b[0m \u001b[1m0s\u001b[0m 202ms/step - accuracy: 0.9370 - loss: 0.5001\n",
      "Epoch 11: val_accuracy did not improve from 0.85328\n",
      "\u001b[1m37/37\u001b[0m \u001b[32m━━━━━━━━━━━━━━━━━━━━\u001b[0m\u001b[37m\u001b[0m \u001b[1m8s\u001b[0m 209ms/step - accuracy: 0.9371 - loss: 0.4987 - val_accuracy: 0.8417 - val_loss: 2.0795\n",
      "Epoch 12/200\n",
      "\u001b[1m37/37\u001b[0m \u001b[32m━━━━━━━━━━━━━━━━━━━━\u001b[0m\u001b[37m\u001b[0m \u001b[1m0s\u001b[0m 182ms/step - accuracy: 0.9309 - loss: 0.4977\n",
      "Epoch 12: val_accuracy did not improve from 0.85328\n",
      "\u001b[1m37/37\u001b[0m \u001b[32m━━━━━━━━━━━━━━━━━━━━\u001b[0m\u001b[37m\u001b[0m \u001b[1m7s\u001b[0m 189ms/step - accuracy: 0.9308 - loss: 0.4972 - val_accuracy: 0.8263 - val_loss: 1.9840\n",
      "Epoch 13/200\n",
      "\u001b[1m37/37\u001b[0m \u001b[32m━━━━━━━━━━━━━━━━━━━━\u001b[0m\u001b[37m\u001b[0m \u001b[1m0s\u001b[0m 202ms/step - accuracy: 0.9409 - loss: 0.3786\n",
      "Epoch 13: val_accuracy did not improve from 0.85328\n",
      "\u001b[1m37/37\u001b[0m \u001b[32m━━━━━━━━━━━━━━━━━━━━\u001b[0m\u001b[37m\u001b[0m \u001b[1m8s\u001b[0m 208ms/step - accuracy: 0.9409 - loss: 0.3788 - val_accuracy: 0.8340 - val_loss: 1.8776\n",
      "Epoch 14/200\n",
      "\u001b[1m37/37\u001b[0m \u001b[32m━━━━━━━━━━━━━━━━━━━━\u001b[0m\u001b[37m\u001b[0m \u001b[1m0s\u001b[0m 175ms/step - accuracy: 0.9466 - loss: 0.3659\n",
      "Epoch 14: val_accuracy did not improve from 0.85328\n",
      "\u001b[1m37/37\u001b[0m \u001b[32m━━━━━━━━━━━━━━━━━━━━\u001b[0m\u001b[37m\u001b[0m \u001b[1m7s\u001b[0m 181ms/step - accuracy: 0.9467 - loss: 0.3658 - val_accuracy: 0.8417 - val_loss: 2.0276\n",
      "Epoch 15/200\n",
      "\u001b[1m37/37\u001b[0m \u001b[32m━━━━━━━━━━━━━━━━━━━━\u001b[0m\u001b[37m\u001b[0m \u001b[1m0s\u001b[0m 188ms/step - accuracy: 0.9565 - loss: 0.2595\n",
      "Epoch 15: val_accuracy did not improve from 0.85328\n",
      "\u001b[1m37/37\u001b[0m \u001b[32m━━━━━━━━━━━━━━━━━━━━\u001b[0m\u001b[37m\u001b[0m \u001b[1m7s\u001b[0m 194ms/step - accuracy: 0.9563 - loss: 0.2606 - val_accuracy: 0.8378 - val_loss: 2.0223\n",
      "Epoch 16/200\n",
      "\u001b[1m37/37\u001b[0m \u001b[32m━━━━━━━━━━━━━━━━━━━━\u001b[0m\u001b[37m\u001b[0m \u001b[1m0s\u001b[0m 189ms/step - accuracy: 0.9635 - loss: 0.2736\n",
      "Epoch 16: val_accuracy did not improve from 0.85328\n",
      "\u001b[1m37/37\u001b[0m \u001b[32m━━━━━━━━━━━━━━━━━━━━\u001b[0m\u001b[37m\u001b[0m \u001b[1m7s\u001b[0m 196ms/step - accuracy: 0.9635 - loss: 0.2727 - val_accuracy: 0.8494 - val_loss: 1.9584\n",
      "Epoch 17/200\n",
      "\u001b[1m37/37\u001b[0m \u001b[32m━━━━━━━━━━━━━━━━━━━━\u001b[0m\u001b[37m\u001b[0m \u001b[1m0s\u001b[0m 190ms/step - accuracy: 0.9741 - loss: 0.1670\n",
      "Epoch 17: val_accuracy improved from 0.85328 to 0.86100, saving model to /Users/kamilla/Desktop/masters_diploma/SOTA_MODELS/SOTA_1/checkpointHSV.model.keras\n",
      "\u001b[1m37/37\u001b[0m \u001b[32m━━━━━━━━━━━━━━━━━━━━\u001b[0m\u001b[37m\u001b[0m \u001b[1m7s\u001b[0m 198ms/step - accuracy: 0.9740 - loss: 0.1674 - val_accuracy: 0.8610 - val_loss: 1.8098\n",
      "Epoch 18/200\n",
      "\u001b[1m37/37\u001b[0m \u001b[32m━━━━━━━━━━━━━━━━━━━━\u001b[0m\u001b[37m\u001b[0m \u001b[1m0s\u001b[0m 207ms/step - accuracy: 0.9693 - loss: 0.2215\n",
      "Epoch 18: val_accuracy did not improve from 0.86100\n",
      "\u001b[1m37/37\u001b[0m \u001b[32m━━━━━━━━━━━━━━━━━━━━\u001b[0m\u001b[37m\u001b[0m \u001b[1m8s\u001b[0m 214ms/step - accuracy: 0.9694 - loss: 0.2199 - val_accuracy: 0.8417 - val_loss: 2.0100\n",
      "Epoch 19/200\n",
      "\u001b[1m37/37\u001b[0m \u001b[32m━━━━━━━━━━━━━━━━━━━━\u001b[0m\u001b[37m\u001b[0m \u001b[1m0s\u001b[0m 189ms/step - accuracy: 0.9648 - loss: 0.2136\n",
      "Epoch 19: val_accuracy did not improve from 0.86100\n",
      "\u001b[1m37/37\u001b[0m \u001b[32m━━━━━━━━━━━━━━━━━━━━\u001b[0m\u001b[37m\u001b[0m \u001b[1m7s\u001b[0m 195ms/step - accuracy: 0.9649 - loss: 0.2130 - val_accuracy: 0.8378 - val_loss: 2.1928\n",
      "Epoch 20/200\n",
      "\u001b[1m37/37\u001b[0m \u001b[32m━━━━━━━━━━━━━━━━━━━━\u001b[0m\u001b[37m\u001b[0m \u001b[1m0s\u001b[0m 183ms/step - accuracy: 0.9752 - loss: 0.1503\n",
      "Epoch 20: val_accuracy did not improve from 0.86100\n",
      "\u001b[1m37/37\u001b[0m \u001b[32m━━━━━━━━━━━━━━━━━━━━\u001b[0m\u001b[37m\u001b[0m \u001b[1m7s\u001b[0m 189ms/step - accuracy: 0.9753 - loss: 0.1501 - val_accuracy: 0.8417 - val_loss: 2.0620\n",
      "Epoch 21/200\n",
      "\u001b[1m37/37\u001b[0m \u001b[32m━━━━━━━━━━━━━━━━━━━━\u001b[0m\u001b[37m\u001b[0m \u001b[1m0s\u001b[0m 174ms/step - accuracy: 0.9737 - loss: 0.1367\n",
      "Epoch 21: val_accuracy did not improve from 0.86100\n",
      "\u001b[1m37/37\u001b[0m \u001b[32m━━━━━━━━━━━━━━━━━━━━\u001b[0m\u001b[37m\u001b[0m \u001b[1m7s\u001b[0m 182ms/step - accuracy: 0.9737 - loss: 0.1368 - val_accuracy: 0.8456 - val_loss: 2.0326\n",
      "Epoch 22/200\n",
      "\u001b[1m37/37\u001b[0m \u001b[32m━━━━━━━━━━━━━━━━━━━━\u001b[0m\u001b[37m\u001b[0m \u001b[1m0s\u001b[0m 163ms/step - accuracy: 0.9707 - loss: 0.1440\n",
      "Epoch 22: val_accuracy did not improve from 0.86100\n",
      "\u001b[1m37/37\u001b[0m \u001b[32m━━━━━━━━━━━━━━━━━━━━\u001b[0m\u001b[37m\u001b[0m \u001b[1m6s\u001b[0m 170ms/step - accuracy: 0.9708 - loss: 0.1433 - val_accuracy: 0.8533 - val_loss: 2.1008\n",
      "Epoch 23/200\n",
      "\u001b[1m37/37\u001b[0m \u001b[32m━━━━━━━━━━━━━━━━━━━━\u001b[0m\u001b[37m\u001b[0m \u001b[1m0s\u001b[0m 178ms/step - accuracy: 0.9786 - loss: 0.0940\n",
      "Epoch 23: val_accuracy did not improve from 0.86100\n",
      "\u001b[1m37/37\u001b[0m \u001b[32m━━━━━━━━━━━━━━━━━━━━\u001b[0m\u001b[37m\u001b[0m \u001b[1m7s\u001b[0m 184ms/step - accuracy: 0.9787 - loss: 0.0941 - val_accuracy: 0.8301 - val_loss: 2.0295\n"
     ]
    },
    {
     "name": "stdout",
     "output_type": "stream",
     "text": [
      "Epoch 24/200\n",
      "\u001b[1m37/37\u001b[0m \u001b[32m━━━━━━━━━━━━━━━━━━━━\u001b[0m\u001b[37m\u001b[0m \u001b[1m0s\u001b[0m 166ms/step - accuracy: 0.9791 - loss: 0.1195\n",
      "Epoch 24: val_accuracy did not improve from 0.86100\n",
      "\u001b[1m37/37\u001b[0m \u001b[32m━━━━━━━━━━━━━━━━━━━━\u001b[0m\u001b[37m\u001b[0m \u001b[1m6s\u001b[0m 173ms/step - accuracy: 0.9791 - loss: 0.1199 - val_accuracy: 0.8417 - val_loss: 1.9897\n",
      "Epoch 25/200\n",
      "\u001b[1m37/37\u001b[0m \u001b[32m━━━━━━━━━━━━━━━━━━━━\u001b[0m\u001b[37m\u001b[0m \u001b[1m0s\u001b[0m 185ms/step - accuracy: 0.9811 - loss: 0.0934\n",
      "Epoch 25: val_accuracy did not improve from 0.86100\n",
      "\u001b[1m37/37\u001b[0m \u001b[32m━━━━━━━━━━━━━━━━━━━━\u001b[0m\u001b[37m\u001b[0m \u001b[1m7s\u001b[0m 191ms/step - accuracy: 0.9811 - loss: 0.0937 - val_accuracy: 0.8494 - val_loss: 1.9095\n",
      "Epoch 26/200\n",
      "\u001b[1m37/37\u001b[0m \u001b[32m━━━━━━━━━━━━━━━━━━━━\u001b[0m\u001b[37m\u001b[0m \u001b[1m0s\u001b[0m 173ms/step - accuracy: 0.9841 - loss: 0.1048\n",
      "Epoch 26: val_accuracy did not improve from 0.86100\n",
      "\u001b[1m37/37\u001b[0m \u001b[32m━━━━━━━━━━━━━━━━━━━━\u001b[0m\u001b[37m\u001b[0m \u001b[1m7s\u001b[0m 180ms/step - accuracy: 0.9842 - loss: 0.1046 - val_accuracy: 0.8456 - val_loss: 1.8169\n",
      "Epoch 27/200\n",
      "\u001b[1m37/37\u001b[0m \u001b[32m━━━━━━━━━━━━━━━━━━━━\u001b[0m\u001b[37m\u001b[0m \u001b[1m0s\u001b[0m 186ms/step - accuracy: 0.9865 - loss: 0.0724\n",
      "Epoch 27: val_accuracy did not improve from 0.86100\n",
      "\u001b[1m37/37\u001b[0m \u001b[32m━━━━━━━━━━━━━━━━━━━━\u001b[0m\u001b[37m\u001b[0m \u001b[1m7s\u001b[0m 192ms/step - accuracy: 0.9865 - loss: 0.0728 - val_accuracy: 0.8494 - val_loss: 1.8703\n",
      "Epoch 27: early stopping\n"
     ]
    }
   ],
   "source": [
    "history = model_1.fit(\n",
    "    x=x_train_prep,\n",
    "    y=y_train_cat, \n",
    "    batch_size=64,\n",
    "    epochs=200,\n",
    "    verbose=1,\n",
    "    validation_data=(x_test_prep, y_test_cat),\n",
    "    validation_batch_size=32,\n",
    "    callbacks=[checkpoint, early_stopping]\n",
    ")"
   ]
  },
  {
   "cell_type": "code",
   "execution_count": 13,
   "id": "f568d43e",
   "metadata": {},
   "outputs": [
    {
     "data": {
      "image/png": "[encoded data removed]",
      "text/plain": [
       "<Figure size 640x480 with 1 Axes>"
      ]
     },
     "metadata": {},
     "output_type": "display_data"
    }
   ],
   "source": [
    "history_dict = history.history\n",
    "loss_values = history_dict['loss']\n",
    "val_loss_values = history_dict['val_loss']\n",
    "epochs = range(1, 27+1)\n",
    "#print(len(epochs))\n",
    "plt.plot(epochs, loss_values, '-', label='Training loss', color='r')\n",
    "plt.plot(epochs, val_loss_values, '-', label='Validation loss', color='g') \n",
    "plt.title('Training and validation loss')\n",
    "plt.xlabel('Epochs')\n",
    "plt.ylabel('Loss')\n",
    "plt.legend()\n",
    "plt.show()"
   ]
  },
  {
   "cell_type": "code",
   "execution_count": 14,
   "id": "a0ab3456",
   "metadata": {},
   "outputs": [
    {
     "name": "stdout",
     "output_type": "stream",
     "text": [
      "\u001b[1m9/9\u001b[0m \u001b[32m━━━━━━━━━━━━━━━━━━━━\u001b[0m\u001b[37m\u001b[0m \u001b[1m0s\u001b[0m 32ms/step\n"
     ]
    }
   ],
   "source": [
    "y_pred = model_1.predict(x_test_prep)\n",
    "#y_pred_val = model.predict(x_val_prep)\n",
    "\n",
    "y_preds_class_1 = np.argmax(y_pred, axis=1).tolist()\n",
    "#y_preds_class_val = np.argmax(y_pred_val, axis=1).tolist()\n"
   ]
  },
  {
   "cell_type": "code",
   "execution_count": 15,
   "id": "669adefb",
   "metadata": {},
   "outputs": [
    {
     "name": "stdout",
     "output_type": "stream",
     "text": [
      "Точность на тесте (без аугументации): 0.8494208494208494\n"
     ]
    }
   ],
   "source": [
    "from sklearn.metrics import accuracy_score\n",
    "\n",
    "accuracy_test = accuracy_score(y_test_encoded, y_preds_class_1)\n",
    "print(f\"Точность на тесте (без аугументации): {accuracy_test}\")"
   ]
  },
  {
   "cell_type": "code",
   "execution_count": 16,
   "id": "5ad9d62a",
   "metadata": {},
   "outputs": [
    {
     "name": "stdout",
     "output_type": "stream",
     "text": [
      "Precision: 0.860304624590339\n",
      "Recall: 0.8494208494208494\n",
      "F1-score: 0.8475451407974532\n"
     ]
    }
   ],
   "source": [
    "from sklearn.metrics import precision_score, recall_score, f1_score\n",
    "\n",
    "precision = precision_score(y_test_encoded, y_preds_class_1, average='weighted')\n",
    "recall = recall_score(y_test_encoded, y_preds_class_1, average='weighted')\n",
    "f1 = f1_score(y_test_encoded, y_preds_class_1, average='weighted')\n",
    "\n",
    "print(\"Precision:\", precision)\n",
    "print(\"Recall:\", recall)\n",
    "print(\"F1-score:\", f1)"
   ]
  },
  {
   "cell_type": "code",
   "execution_count": null,
   "id": "bd761c57",
   "metadata": {},
   "outputs": [],
   "source": []
  }
 ],
 "metadata": {
  "kernelspec": {
   "display_name": "Python 3 (ipykernel)",
   "language": "python",
   "name": "python3"
  },
  "language_info": {
   "codemirror_mode": {
    "name": "ipython",
    "version": 3
   },
   "file_extension": ".py",
   "mimetype": "text/x-python",
   "name": "python",
   "nbconvert_exporter": "python",
   "pygments_lexer": "ipython3",
   "version": "3.11.6"
  }
 },
 "nbformat": 4,
 "nbformat_minor": 5
}
