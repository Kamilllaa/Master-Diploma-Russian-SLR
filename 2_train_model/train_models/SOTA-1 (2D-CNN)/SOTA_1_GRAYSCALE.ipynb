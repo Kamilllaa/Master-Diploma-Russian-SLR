{
 "cells": [
  {
   "cell_type": "markdown",
   "metadata": {},
   "source": [
    "# [Visual Static Hand Gesture Recognition Using Convolutional Neural Network](https://www.mdpi.com/1999-4893/16/8/361)\n",
    "\n",
    "Ссылка кликабельна и ведет на статью"
   ]
  },
  {
   "cell_type": "code",
   "execution_count": 1,
   "metadata": {},
   "outputs": [],
   "source": [
    "import numpy as np \n",
    "import pandas as pd \n",
    "import glob\n",
    "import os\n",
    "import cv2\n",
    "from sklearn.model_selection import train_test_split\n",
    "from sklearn.preprocessing import LabelEncoder\n",
    "import matplotlib.pyplot as plt\n",
    "import tensorflow as tf\n",
    "from PIL import Image\n",
    "import keras\n",
    "from scipy.ndimage import rotate\n",
    "from sklearn.metrics import accuracy_score\n",
    "import random"
   ]
  },
  {
   "cell_type": "markdown",
   "metadata": {},
   "source": [
    "# 1. Look at the Data"
   ]
  },
  {
   "cell_type": "code",
   "execution_count": 2,
   "metadata": {
    "execution": {
     "iopub.execute_input": "2024-03-16T11:22:32.442742Z",
     "iopub.status.busy": "2024-03-16T11:22:32.442431Z",
     "iopub.status.idle": "2024-03-16T11:22:32.475710Z",
     "shell.execute_reply": "2024-03-16T11:22:32.474927Z",
     "shell.execute_reply.started": "2024-03-16T11:22:32.442708Z"
    }
   },
   "outputs": [
    {
     "name": "stdout",
     "output_type": "stream",
     "text": [
      "DataFrame for train is ready. Processed 2339\n",
      "DataFrame for test is ready. Processed 259\n"
     ]
    }
   ],
   "source": [
    "DATA_PATH = \"/Users/kamilla/Desktop/masters_diploma/SOTA_MODELS/data/croped_images\"\n",
    "RANDOM_STATE = 128\n",
    "keras.utils.set_random_seed(RANDOM_STATE)\n",
    "np.random.seed(RANDOM_STATE)\n",
    "\n",
    "TEST_DATA_PATH = '/Users/kamilla/Desktop/masters_diploma/SOTA_MODELS/data/croped_test_01_06_cv'\n",
    "TRAIN_DATA_PATH = '/Users/kamilla/Desktop/masters_diploma/SOTA_MODELS/data/croped_train_01_06_cv'\n",
    "#VAL_DATA_PATH = '/Users/kamilla/Desktop/masters_diploma/SOTA_MODELS/SOTA_3/data_SOTA_3/temp_val'\n",
    "\n",
    "# Создадим датафрейм, где будем сохранять путь до картинки и ее лейбл\n",
    "\n",
    "dactyl = [\"А\", \"Б\", \"В\", \"Г\", \"Е\",\n",
    "          \"Ж\", \"И\", \"К\", \"Л\", \"М\",\n",
    "          \"Н\", \"О\", \"П\", \"Р\", \"С\",\n",
    "          \"Т\", \"У\", \"Ф\", \"Х\", \"Ч\",\n",
    "          \"Ш\", \"Ы\", \"Э\", \"Ю\", \"Я\"]\n",
    "\n",
    "def get_metadata(data_path):\n",
    "    list_path = []\n",
    "    list_labels = []\n",
    "    for label in dactyl:\n",
    "        label_path = os.path.join(data_path, label, \"*\")\n",
    "        image_files = glob.glob(label_path)\n",
    "\n",
    "        sign_label = [label] * len(image_files)\n",
    "\n",
    "        list_path.extend(image_files)\n",
    "        list_labels.extend(sign_label)\n",
    "\n",
    "    metadata = pd.DataFrame({\n",
    "        \"image_path\": list_path,\n",
    "        \"label\": list_labels\n",
    "    })\n",
    "    return metadata\n",
    "\n",
    "train_df = get_metadata(TRAIN_DATA_PATH)\n",
    "print(f\"DataFrame for train is ready. Processed {len(train_df)}\")\n",
    "test_df = get_metadata(TEST_DATA_PATH)\n",
    "print(f\"DataFrame for test is ready. Processed {len(test_df)}\")\n",
    "#val_df = get_metadata(VAL_DATA_PATH)\n",
    "#print(f\"DataFrame for val is ready. Processed {len(val_df)}\")"
   ]
  },
  {
   "cell_type": "code",
   "execution_count": 4,
   "metadata": {},
   "outputs": [
    {
     "data": {
      "text/plain": [
       "'le = LabelEncoder()\\nle.fit(y_train)\\ny_train_encoded = le.transform(y_train)\\ny_train_cat = keras.utils.to_categorical(y_train_encoded)\\n\\ny_test_encoded = le.transform(y_test)\\ny_test_cat = keras.utils.to_categorical(y_test_encoded)'"
      ]
     },
     "execution_count": 4,
     "metadata": {},
     "output_type": "execute_result"
    }
   ],
   "source": [
    "y_train, x_train = train_df['label'], train_df['image_path']\n",
    "y_test, x_test = test_df['label'], test_df['image_path']\n"
   ]
  },
  {
   "cell_type": "code",
   "execution_count": 6,
   "metadata": {},
   "outputs": [],
   "source": [
    "x_train.reset_index(inplace=True, drop=True)\n",
    "#x_val.reset_index(inplace=True, drop=True)\n",
    "x_test.reset_index(inplace=True, drop=True)\n",
    "y_train.reset_index(inplace=True, drop=True)\n",
    "#y_val.reset_index(inplace=True, drop=True)\n",
    "y_test.reset_index(inplace=True, drop=True)"
   ]
  },
  {
   "cell_type": "code",
   "execution_count": 7,
   "metadata": {},
   "outputs": [],
   "source": [
    "# Будем сжимать изображение\n",
    "\n",
    "def get_images(data):\n",
    "    \"\"\"Crop the input image into a square and convert to grayscale.\"\"\"\n",
    "    new_data = []\n",
    "    for image_path in data:\n",
    "        if image_path.endswith(\".jpg\") or image_path.endswith(\".jpeg\") or image_path.endswith(\".JPG\"):\n",
    "            numpy_image = cv2.imread(image_path)\n",
    "            # Convert to grayscale\n",
    "            grayscale_image = cv2.cvtColor(numpy_image, cv2.COLOR_BGR2GRAY)\n",
    "            # Ensure grayscale image has only one channel\n",
    "            if len(grayscale_image.shape) > 2:\n",
    "                grayscale_image = cv2.cvtColor(grayscale_image, cv2.COLOR_BGR2GRAY)\n",
    "            # Resize if necessary (optional)\n",
    "            image_resized = cv2.resize(grayscale_image, (32, 32))\n",
    "            new_data.append(image_resized)\n",
    "    return new_data\n"
   ]
  },
  {
   "cell_type": "code",
   "execution_count": 8,
   "metadata": {},
   "outputs": [],
   "source": [
    "x_train_arr = get_images(x_train)\n",
    "x_test_arr = get_images(x_test)"
   ]
  },
  {
   "cell_type": "markdown",
   "metadata": {},
   "source": [
    "# Data preproccesing \n",
    "## Skin Segmentation & Data Augmentation"
   ]
  },
  {
   "cell_type": "code",
   "execution_count": 11,
   "metadata": {},
   "outputs": [],
   "source": [
    "def do_preprocess_right(X_data, y_data, augmentation=False):\n",
    "    num_images = 0\n",
    "    skin_segmentation_images = []\n",
    "    labels = []\n",
    "\n",
    "    for i in range(len(X_data)):\n",
    "        if i % 100 == 0:\n",
    "            print(f\"Обработано {i} изображений\")\n",
    "        skin_extracted_image = X_data[i]\n",
    "\n",
    "        if augmentation is True: \n",
    "            rotation_degrees = np.random.choice(range(-20, 21), 10, replace=False)\n",
    "            for angle in rotation_degrees:\n",
    "                rotated_image = rotate(skin_extracted_image, angle, reshape=False)\n",
    "                #rotated_image_resized = cv2.resize(rotated_image, (32, 32))\n",
    "                skin_segmentation_images.append(rotated_image) \n",
    "                labels.append(y_data[i])\n",
    "        else:\n",
    "            #image_resized = cv2.resize(skin_extracted_image, (32, 32))\n",
    "            skin_segmentation_images.append(skin_extracted_image)\n",
    "            labels.append(y_data[i])\n",
    "        \n",
    "    return skin_segmentation_images, labels"
   ]
  },
  {
   "cell_type": "code",
   "execution_count": 12,
   "metadata": {},
   "outputs": [
    {
     "name": "stdout",
     "output_type": "stream",
     "text": [
      "Обработано 0 изображений\n",
      "Обработано 100 изображений\n",
      "Обработано 200 изображений\n",
      "Обработано 300 изображений\n",
      "Обработано 400 изображений\n",
      "Обработано 500 изображений\n",
      "Обработано 600 изображений\n",
      "Обработано 700 изображений\n",
      "Обработано 800 изображений\n",
      "Обработано 900 изображений\n",
      "Обработано 1000 изображений\n",
      "Обработано 1100 изображений\n",
      "Обработано 1200 изображений\n",
      "Обработано 1300 изображений\n",
      "Обработано 1400 изображений\n",
      "Обработано 1500 изображений\n",
      "Обработано 1600 изображений\n",
      "Обработано 1700 изображений\n",
      "Обработано 1800 изображений\n",
      "Обработано 1900 изображений\n",
      "Обработано 2000 изображений\n",
      "Обработано 2100 изображений\n",
      "Обработано 2200 изображений\n",
      "Обработано 2300 изображений\n",
      "Preproccesing for TRAIN is FINISHED\n",
      "Обработано 0 изображений\n",
      "Обработано 100 изображений\n",
      "Обработано 200 изображений\n",
      "Preproccesing for TEST is FINISHED\n"
     ]
    }
   ],
   "source": [
    "x_train_prep, y_train_prep = do_preprocess_right(x_train_arr, y_train, augmentation=True)\n",
    "print(\"Preproccesing for TRAIN is FINISHED\")\n",
    "x_test_prep, y_test_prep = do_preprocess_right(x_test_arr, y_test,augmentation=False)\n",
    "print(\"Preproccesing for TEST is FINISHED\")\n",
    "#x_val_prep, y_val_prep = do_preprocess(x_val_arr, y_val, augmentation=False)\n",
    "#print(\"Preproccesing for VALIDATION is FINISHED\")\n"
   ]
  },
  {
   "cell_type": "code",
   "execution_count": 14,
   "metadata": {},
   "outputs": [
    {
     "name": "stdout",
     "output_type": "stream",
     "text": [
      "Кол-во примеров после препроцессинга в X_data: 23390, в y_data 23390\n",
      "Кол-во примеров после препроцессинга в X_test: 259, в y_test 259\n"
     ]
    }
   ],
   "source": [
    "# Проверим данные\n",
    "\n",
    "print(f\"Кол-во примеров после препроцессинга в X_data: {len(x_train_prep)}, \\\n",
    "в y_data {len(y_train_prep)}\")\n",
    "\n",
    "print(f\"Кол-во примеров после препроцессинга в X_test: {len(x_test_prep)}, \\\n",
    "в y_test {len(y_test_prep)}\")"
   ]
  },
  {
   "cell_type": "code",
   "execution_count": 15,
   "metadata": {},
   "outputs": [
    {
     "data": {
      "text/plain": [
       "<matplotlib.image.AxesImage at 0x297b1e810>"
      ]
     },
     "execution_count": 15,
     "metadata": {},
     "output_type": "execute_result"
    },
    {
     "data": {
      "image/png": "[encoded data removed]",
      "text/plain": [
       "<Figure size 640x480 with 1 Axes>"
      ]
     },
     "metadata": {},
     "output_type": "display_data"
    }
   ],
   "source": [
    "plt.title(y_train_prep[250])\n",
    "plt.imshow(x_train_prep[250])"
   ]
  },
  {
   "cell_type": "code",
   "execution_count": 20,
   "metadata": {},
   "outputs": [],
   "source": [
    "le = LabelEncoder()\n",
    "le.fit(y_data_shuffled)\n",
    "y_train_encoded = le.transform(y_data_shuffled)\n",
    "y_train_cat = keras.utils.to_categorical(y_train_encoded)\n",
    "\n",
    "y_test_encoded = le.transform(y_test_prep)\n",
    "y_test_cat = keras.utils.to_categorical(y_test_encoded)\n",
    "\n",
    "#y_val_encoded = le.transform(y_val_prep)\n",
    "#y_val_cat = keras.utils.to_categorical(y_val_encoded)"
   ]
  },
  {
   "cell_type": "markdown",
   "metadata": {},
   "source": [
    "# Model implementation"
   ]
  },
  {
   "cell_type": "code",
   "execution_count": 21,
   "metadata": {
    "execution": {
     "iopub.execute_input": "2024-03-16T11:22:55.625340Z",
     "iopub.status.busy": "2024-03-16T11:22:55.625093Z",
     "iopub.status.idle": "2024-03-16T11:22:55.638391Z",
     "shell.execute_reply": "2024-03-16T11:22:55.637671Z",
     "shell.execute_reply.started": "2024-03-16T11:22:55.625318Z"
    }
   },
   "outputs": [
    {
     "name": "stderr",
     "output_type": "stream",
     "text": [
      "/opt/homebrew/lib/python3.11/site-packages/keras/src/layers/convolutional/base_conv.py:107: UserWarning: Do not pass an `input_shape`/`input_dim` argument to a layer. When using Sequential models, prefer using an `Input(shape)` object as the first layer in the model instead.\n",
      "  super().__init__(activity_regularizer=activity_regularizer, **kwargs)\n"
     ]
    },
    {
     "data": {
      "text/html": [
       "<pre style=\"white-space:pre;overflow-x:auto;line-height:normal;font-family:Menlo,'DejaVu Sans Mono',consolas,'Courier New',monospace\"><span style=\"font-weight: bold\">Model: \"sequential\"</span>\n",
       "</pre>\n"
      ],
      "text/plain": [
       "\u001b[1mModel: \"sequential\"\u001b[0m\n"
      ]
     },
     "metadata": {},
     "output_type": "display_data"
    },
    {
     "data": {
      "text/html": [
       "<pre style=\"white-space:pre;overflow-x:auto;line-height:normal;font-family:Menlo,'DejaVu Sans Mono',consolas,'Courier New',monospace\">┏━━━━━━━━━━━━━━━━━━━━━━━━━━━━━━━━━┳━━━━━━━━━━━━━━━━━━━━━━━━┳━━━━━━━━━━━━━━━┓\n",
       "┃<span style=\"font-weight: bold\"> Layer (type)                    </span>┃<span style=\"font-weight: bold\"> Output Shape           </span>┃<span style=\"font-weight: bold\">       Param # </span>┃\n",
       "┡━━━━━━━━━━━━━━━━━━━━━━━━━━━━━━━━━╇━━━━━━━━━━━━━━━━━━━━━━━━╇━━━━━━━━━━━━━━━┩\n",
       "│ conv2d (<span style=\"color: #0087ff; text-decoration-color: #0087ff\">Conv2D</span>)                 │ (<span style=\"color: #00d7ff; text-decoration-color: #00d7ff\">None</span>, <span style=\"color: #00af00; text-decoration-color: #00af00\">29</span>, <span style=\"color: #00af00; text-decoration-color: #00af00\">29</span>, <span style=\"color: #00af00; text-decoration-color: #00af00\">15</span>)     │           <span style=\"color: #00af00; text-decoration-color: #00af00\">255</span> │\n",
       "├─────────────────────────────────┼────────────────────────┼───────────────┤\n",
       "│ max_pooling2d (<span style=\"color: #0087ff; text-decoration-color: #0087ff\">MaxPooling2D</span>)    │ (<span style=\"color: #00d7ff; text-decoration-color: #00d7ff\">None</span>, <span style=\"color: #00af00; text-decoration-color: #00af00\">14</span>, <span style=\"color: #00af00; text-decoration-color: #00af00\">14</span>, <span style=\"color: #00af00; text-decoration-color: #00af00\">15</span>)     │             <span style=\"color: #00af00; text-decoration-color: #00af00\">0</span> │\n",
       "├─────────────────────────────────┼────────────────────────┼───────────────┤\n",
       "│ conv2d_1 (<span style=\"color: #0087ff; text-decoration-color: #0087ff\">Conv2D</span>)               │ (<span style=\"color: #00d7ff; text-decoration-color: #00d7ff\">None</span>, <span style=\"color: #00af00; text-decoration-color: #00af00\">14</span>, <span style=\"color: #00af00; text-decoration-color: #00af00\">14</span>, <span style=\"color: #00af00; text-decoration-color: #00af00\">30</span>)     │           <span style=\"color: #00af00; text-decoration-color: #00af00\">480</span> │\n",
       "├─────────────────────────────────┼────────────────────────┼───────────────┤\n",
       "│ max_pooling2d_1 (<span style=\"color: #0087ff; text-decoration-color: #0087ff\">MaxPooling2D</span>)  │ (<span style=\"color: #00d7ff; text-decoration-color: #00d7ff\">None</span>, <span style=\"color: #00af00; text-decoration-color: #00af00\">7</span>, <span style=\"color: #00af00; text-decoration-color: #00af00\">7</span>, <span style=\"color: #00af00; text-decoration-color: #00af00\">30</span>)       │             <span style=\"color: #00af00; text-decoration-color: #00af00\">0</span> │\n",
       "├─────────────────────────────────┼────────────────────────┼───────────────┤\n",
       "│ flatten (<span style=\"color: #0087ff; text-decoration-color: #0087ff\">Flatten</span>)               │ (<span style=\"color: #00d7ff; text-decoration-color: #00d7ff\">None</span>, <span style=\"color: #00af00; text-decoration-color: #00af00\">1470</span>)           │             <span style=\"color: #00af00; text-decoration-color: #00af00\">0</span> │\n",
       "├─────────────────────────────────┼────────────────────────┼───────────────┤\n",
       "│ dropout (<span style=\"color: #0087ff; text-decoration-color: #0087ff\">Dropout</span>)               │ (<span style=\"color: #00d7ff; text-decoration-color: #00d7ff\">None</span>, <span style=\"color: #00af00; text-decoration-color: #00af00\">1470</span>)           │             <span style=\"color: #00af00; text-decoration-color: #00af00\">0</span> │\n",
       "├─────────────────────────────────┼────────────────────────┼───────────────┤\n",
       "│ dense (<span style=\"color: #0087ff; text-decoration-color: #0087ff\">Dense</span>)                   │ (<span style=\"color: #00d7ff; text-decoration-color: #00d7ff\">None</span>, <span style=\"color: #00af00; text-decoration-color: #00af00\">25</span>)             │        <span style=\"color: #00af00; text-decoration-color: #00af00\">36,775</span> │\n",
       "└─────────────────────────────────┴────────────────────────┴───────────────┘\n",
       "</pre>\n"
      ],
      "text/plain": [
       "┏━━━━━━━━━━━━━━━━━━━━━━━━━━━━━━━━━┳━━━━━━━━━━━━━━━━━━━━━━━━┳━━━━━━━━━━━━━━━┓\n",
       "┃\u001b[1m \u001b[0m\u001b[1mLayer (type)                   \u001b[0m\u001b[1m \u001b[0m┃\u001b[1m \u001b[0m\u001b[1mOutput Shape          \u001b[0m\u001b[1m \u001b[0m┃\u001b[1m \u001b[0m\u001b[1m      Param #\u001b[0m\u001b[1m \u001b[0m┃\n",
       "┡━━━━━━━━━━━━━━━━━━━━━━━━━━━━━━━━━╇━━━━━━━━━━━━━━━━━━━━━━━━╇━━━━━━━━━━━━━━━┩\n",
       "│ conv2d (\u001b[38;5;33mConv2D\u001b[0m)                 │ (\u001b[38;5;45mNone\u001b[0m, \u001b[38;5;34m29\u001b[0m, \u001b[38;5;34m29\u001b[0m, \u001b[38;5;34m15\u001b[0m)     │           \u001b[38;5;34m255\u001b[0m │\n",
       "├─────────────────────────────────┼────────────────────────┼───────────────┤\n",
       "│ max_pooling2d (\u001b[38;5;33mMaxPooling2D\u001b[0m)    │ (\u001b[38;5;45mNone\u001b[0m, \u001b[38;5;34m14\u001b[0m, \u001b[38;5;34m14\u001b[0m, \u001b[38;5;34m15\u001b[0m)     │             \u001b[38;5;34m0\u001b[0m │\n",
       "├─────────────────────────────────┼────────────────────────┼───────────────┤\n",
       "│ conv2d_1 (\u001b[38;5;33mConv2D\u001b[0m)               │ (\u001b[38;5;45mNone\u001b[0m, \u001b[38;5;34m14\u001b[0m, \u001b[38;5;34m14\u001b[0m, \u001b[38;5;34m30\u001b[0m)     │           \u001b[38;5;34m480\u001b[0m │\n",
       "├─────────────────────────────────┼────────────────────────┼───────────────┤\n",
       "│ max_pooling2d_1 (\u001b[38;5;33mMaxPooling2D\u001b[0m)  │ (\u001b[38;5;45mNone\u001b[0m, \u001b[38;5;34m7\u001b[0m, \u001b[38;5;34m7\u001b[0m, \u001b[38;5;34m30\u001b[0m)       │             \u001b[38;5;34m0\u001b[0m │\n",
       "├─────────────────────────────────┼────────────────────────┼───────────────┤\n",
       "│ flatten (\u001b[38;5;33mFlatten\u001b[0m)               │ (\u001b[38;5;45mNone\u001b[0m, \u001b[38;5;34m1470\u001b[0m)           │             \u001b[38;5;34m0\u001b[0m │\n",
       "├─────────────────────────────────┼────────────────────────┼───────────────┤\n",
       "│ dropout (\u001b[38;5;33mDropout\u001b[0m)               │ (\u001b[38;5;45mNone\u001b[0m, \u001b[38;5;34m1470\u001b[0m)           │             \u001b[38;5;34m0\u001b[0m │\n",
       "├─────────────────────────────────┼────────────────────────┼───────────────┤\n",
       "│ dense (\u001b[38;5;33mDense\u001b[0m)                   │ (\u001b[38;5;45mNone\u001b[0m, \u001b[38;5;34m25\u001b[0m)             │        \u001b[38;5;34m36,775\u001b[0m │\n",
       "└─────────────────────────────────┴────────────────────────┴───────────────┘\n"
      ]
     },
     "metadata": {},
     "output_type": "display_data"
    },
    {
     "data": {
      "text/html": [
       "<pre style=\"white-space:pre;overflow-x:auto;line-height:normal;font-family:Menlo,'DejaVu Sans Mono',consolas,'Courier New',monospace\"><span style=\"font-weight: bold\"> Total params: </span><span style=\"color: #00af00; text-decoration-color: #00af00\">37,510</span> (146.52 KB)\n",
       "</pre>\n"
      ],
      "text/plain": [
       "\u001b[1m Total params: \u001b[0m\u001b[38;5;34m37,510\u001b[0m (146.52 KB)\n"
      ]
     },
     "metadata": {},
     "output_type": "display_data"
    },
    {
     "data": {
      "text/html": [
       "<pre style=\"white-space:pre;overflow-x:auto;line-height:normal;font-family:Menlo,'DejaVu Sans Mono',consolas,'Courier New',monospace\"><span style=\"font-weight: bold\"> Trainable params: </span><span style=\"color: #00af00; text-decoration-color: #00af00\">37,510</span> (146.52 KB)\n",
       "</pre>\n"
      ],
      "text/plain": [
       "\u001b[1m Trainable params: \u001b[0m\u001b[38;5;34m37,510\u001b[0m (146.52 KB)\n"
      ]
     },
     "metadata": {},
     "output_type": "display_data"
    },
    {
     "data": {
      "text/html": [
       "<pre style=\"white-space:pre;overflow-x:auto;line-height:normal;font-family:Menlo,'DejaVu Sans Mono',consolas,'Courier New',monospace\"><span style=\"font-weight: bold\"> Non-trainable params: </span><span style=\"color: #00af00; text-decoration-color: #00af00\">0</span> (0.00 B)\n",
       "</pre>\n"
      ],
      "text/plain": [
       "\u001b[1m Non-trainable params: \u001b[0m\u001b[38;5;34m0\u001b[0m (0.00 B)\n"
      ]
     },
     "metadata": {},
     "output_type": "display_data"
    }
   ],
   "source": [
    "from keras.models import Sequential\n",
    "from keras.layers import Conv2D, MaxPooling2D, Activation, Dense, Flatten, Dropout, Input\n",
    "from keras.callbacks import ModelCheckpoint\n",
    "\n",
    "model_1 = Sequential()\n",
    "model_1.add(Conv2D(15, 4, activation='relu', input_shape=(32,32,1)))\n",
    "model_1.add(MaxPooling2D(pool_size=(2, 2)))\n",
    "model_1.add(Conv2D(30, 1,  activation='relu', padding=\"same\", use_bias=True))\n",
    "model_1.add(MaxPooling2D(pool_size=(2, 2)))\n",
    "model_1.add(Flatten())\n",
    "model_1.add(Dropout(0.5))\n",
    "model_1.add(Dense(25, activation='softmax'))  # Adjust the number of units based on the problem (e.g., number of output classes)\n",
    "\n",
    "\n",
    "model_1.summary()"
   ]
  },
  {
   "cell_type": "code",
   "execution_count": 22,
   "metadata": {},
   "outputs": [],
   "source": [
    "from tensorflow.keras.callbacks import EarlyStopping\n",
    "\n",
    "early_stopping = EarlyStopping(monitor='val_accuracy', patience=20, mode='max', verbose=1)\n",
    "\n",
    "\n",
    "# Создаем объект ModelCheckpoint для сохранения лучших весов модели\n",
    "checkpoint = ModelCheckpoint(filepath='/Users/kamilla/Desktop/masters_diploma/SOTA_MODELS/SOTA_1/checkpointGRAYSCALE.model.keras', \n",
    "                             monitor='val_accuracy', \n",
    "                             save_best_only=True,\n",
    "                            mode='max',\n",
    "                            verbose=1)\n",
    "\n",
    "model_1.compile(optimizer=tf.keras.optimizers.Adam(learning_rate=0.01),\n",
    "              loss='categorical_crossentropy',\n",
    "              metrics=['accuracy'])\n",
    "\n",
    "x_train_prep = np.array(x_train_shuffled)\n",
    "#x_val_prep = np.array(x_val_prep)\n",
    "x_test_prep = np.array(x_test_prep)"
   ]
  },
  {
   "cell_type": "code",
   "execution_count": 23,
   "metadata": {
    "execution": {
     "iopub.execute_input": "2024-03-16T11:23:51.329760Z",
     "iopub.status.busy": "2024-03-16T11:23:51.329302Z",
     "iopub.status.idle": "2024-03-16T11:30:19.352661Z",
     "shell.execute_reply": "2024-03-16T11:30:19.350355Z",
     "shell.execute_reply.started": "2024-03-16T11:23:51.329722Z"
    }
   },
   "outputs": [
    {
     "name": "stdout",
     "output_type": "stream",
     "text": [
      "Epoch 1/200\n",
      "\u001b[1m364/366\u001b[0m \u001b[32m━━━━━━━━━━━━━━━━━━━\u001b[0m\u001b[37m━\u001b[0m \u001b[1m0s\u001b[0m 12ms/step - accuracy: 0.1912 - loss: 12.2552\n",
      "Epoch 1: val_accuracy improved from -inf to 0.55985, saving model to /Users/kamilla/Desktop/masters_diploma/SOTA_MODELS/SOTA_1/checkpointGRAYSCALE.model.keras\n",
      "\u001b[1m366/366\u001b[0m \u001b[32m━━━━━━━━━━━━━━━━━━━━\u001b[0m\u001b[37m\u001b[0m \u001b[1m5s\u001b[0m 12ms/step - accuracy: 0.1917 - loss: 12.1931 - val_accuracy: 0.5598 - val_loss: 1.8737\n",
      "Epoch 2/200\n",
      "\u001b[1m366/366\u001b[0m \u001b[32m━━━━━━━━━━━━━━━━━━━━\u001b[0m\u001b[37m\u001b[0m \u001b[1m0s\u001b[0m 10ms/step - accuracy: 0.4522 - loss: 1.9564\n",
      "Epoch 2: val_accuracy improved from 0.55985 to 0.69498, saving model to /Users/kamilla/Desktop/masters_diploma/SOTA_MODELS/SOTA_1/checkpointGRAYSCALE.model.keras\n",
      "\u001b[1m366/366\u001b[0m \u001b[32m━━━━━━━━━━━━━━━━━━━━\u001b[0m\u001b[37m\u001b[0m \u001b[1m4s\u001b[0m 10ms/step - accuracy: 0.4523 - loss: 1.9560 - val_accuracy: 0.6950 - val_loss: 1.1454\n",
      "Epoch 3/200\n",
      "\u001b[1m366/366\u001b[0m \u001b[32m━━━━━━━━━━━━━━━━━━━━\u001b[0m\u001b[37m\u001b[0m \u001b[1m0s\u001b[0m 10ms/step - accuracy: 0.5897 - loss: 1.4757\n",
      "Epoch 3: val_accuracy did not improve from 0.69498\n",
      "\u001b[1m366/366\u001b[0m \u001b[32m━━━━━━━━━━━━━━━━━━━━\u001b[0m\u001b[37m\u001b[0m \u001b[1m4s\u001b[0m 10ms/step - accuracy: 0.5897 - loss: 1.4756 - val_accuracy: 0.6641 - val_loss: 1.2624\n",
      "Epoch 4/200\n",
      "\u001b[1m364/366\u001b[0m \u001b[32m━━━━━━━━━━━━━━━━━━━\u001b[0m\u001b[37m━\u001b[0m \u001b[1m0s\u001b[0m 10ms/step - accuracy: 0.6095 - loss: 1.3736\n",
      "Epoch 4: val_accuracy improved from 0.69498 to 0.72587, saving model to /Users/kamilla/Desktop/masters_diploma/SOTA_MODELS/SOTA_1/checkpointGRAYSCALE.model.keras\n",
      "\u001b[1m366/366\u001b[0m \u001b[32m━━━━━━━━━━━━━━━━━━━━\u001b[0m\u001b[37m\u001b[0m \u001b[1m4s\u001b[0m 10ms/step - accuracy: 0.6096 - loss: 1.3731 - val_accuracy: 0.7259 - val_loss: 1.0121\n",
      "Epoch 5/200\n",
      "\u001b[1m365/366\u001b[0m \u001b[32m━━━━━━━━━━━━━━━━━━━\u001b[0m\u001b[37m━\u001b[0m \u001b[1m0s\u001b[0m 13ms/step - accuracy: 0.6282 - loss: 1.2905\n",
      "Epoch 5: val_accuracy improved from 0.72587 to 0.75290, saving model to /Users/kamilla/Desktop/masters_diploma/SOTA_MODELS/SOTA_1/checkpointGRAYSCALE.model.keras\n",
      "\u001b[1m366/366\u001b[0m \u001b[32m━━━━━━━━━━━━━━━━━━━━\u001b[0m\u001b[37m\u001b[0m \u001b[1m5s\u001b[0m 13ms/step - accuracy: 0.6281 - loss: 1.2906 - val_accuracy: 0.7529 - val_loss: 0.8474\n",
      "Epoch 6/200\n",
      "\u001b[1m365/366\u001b[0m \u001b[32m━━━━━━━━━━━━━━━━━━━\u001b[0m\u001b[37m━\u001b[0m \u001b[1m0s\u001b[0m 15ms/step - accuracy: 0.6247 - loss: 1.3334\n",
      "Epoch 6: val_accuracy did not improve from 0.75290\n",
      "\u001b[1m366/366\u001b[0m \u001b[32m━━━━━━━━━━━━━━━━━━━━\u001b[0m\u001b[37m\u001b[0m \u001b[1m6s\u001b[0m 15ms/step - accuracy: 0.6247 - loss: 1.3334 - val_accuracy: 0.4170 - val_loss: 2.0359\n",
      "Epoch 7/200\n",
      "\u001b[1m366/366\u001b[0m \u001b[32m━━━━━━━━━━━━━━━━━━━━\u001b[0m\u001b[37m\u001b[0m \u001b[1m0s\u001b[0m 12ms/step - accuracy: 0.4804 - loss: 1.8536\n",
      "Epoch 7: val_accuracy did not improve from 0.75290\n",
      "\u001b[1m366/366\u001b[0m \u001b[32m━━━━━━━━━━━━━━━━━━━━\u001b[0m\u001b[37m\u001b[0m \u001b[1m4s\u001b[0m 12ms/step - accuracy: 0.4805 - loss: 1.8534 - val_accuracy: 0.6795 - val_loss: 1.2815\n",
      "Epoch 8/200\n",
      "\u001b[1m365/366\u001b[0m \u001b[32m━━━━━━━━━━━━━━━━━━━\u001b[0m\u001b[37m━\u001b[0m \u001b[1m0s\u001b[0m 11ms/step - accuracy: 0.5366 - loss: 1.6075\n",
      "Epoch 8: val_accuracy did not improve from 0.75290\n",
      "\u001b[1m366/366\u001b[0m \u001b[32m━━━━━━━━━━━━━━━━━━━━\u001b[0m\u001b[37m\u001b[0m \u001b[1m4s\u001b[0m 11ms/step - accuracy: 0.5366 - loss: 1.6075 - val_accuracy: 0.5290 - val_loss: 1.6271\n",
      "Epoch 9/200\n",
      "\u001b[1m365/366\u001b[0m \u001b[32m━━━━━━━━━━━━━━━━━━━\u001b[0m\u001b[37m━\u001b[0m \u001b[1m0s\u001b[0m 13ms/step - accuracy: 0.5272 - loss: 1.6715\n",
      "Epoch 9: val_accuracy did not improve from 0.75290\n",
      "\u001b[1m366/366\u001b[0m \u001b[32m━━━━━━━━━━━━━━━━━━━━\u001b[0m\u001b[37m\u001b[0m \u001b[1m5s\u001b[0m 13ms/step - accuracy: 0.5272 - loss: 1.6714 - val_accuracy: 0.6486 - val_loss: 1.2903\n",
      "Epoch 10/200\n",
      "\u001b[1m364/366\u001b[0m \u001b[32m━━━━━━━━━━━━━━━━━━━\u001b[0m\u001b[37m━\u001b[0m \u001b[1m0s\u001b[0m 17ms/step - accuracy: 0.5155 - loss: 1.6983\n",
      "Epoch 10: val_accuracy did not improve from 0.75290\n",
      "\u001b[1m366/366\u001b[0m \u001b[32m━━━━━━━━━━━━━━━━━━━━\u001b[0m\u001b[37m\u001b[0m \u001b[1m6s\u001b[0m 17ms/step - accuracy: 0.5156 - loss: 1.6978 - val_accuracy: 0.6409 - val_loss: 1.2154\n",
      "Epoch 11/200\n",
      "\u001b[1m366/366\u001b[0m \u001b[32m━━━━━━━━━━━━━━━━━━━━\u001b[0m\u001b[37m\u001b[0m \u001b[1m0s\u001b[0m 18ms/step - accuracy: 0.5495 - loss: 1.5884\n",
      "Epoch 11: val_accuracy did not improve from 0.75290\n",
      "\u001b[1m366/366\u001b[0m \u001b[32m━━━━━━━━━━━━━━━━━━━━\u001b[0m\u001b[37m\u001b[0m \u001b[1m7s\u001b[0m 18ms/step - accuracy: 0.5495 - loss: 1.5884 - val_accuracy: 0.6448 - val_loss: 1.2674\n",
      "Epoch 12/200\n",
      "\u001b[1m365/366\u001b[0m \u001b[32m━━━━━━━━━━━━━━━━━━━\u001b[0m\u001b[37m━\u001b[0m \u001b[1m0s\u001b[0m 18ms/step - accuracy: 0.4938 - loss: 1.7705\n",
      "Epoch 12: val_accuracy did not improve from 0.75290\n",
      "\u001b[1m366/366\u001b[0m \u001b[32m━━━━━━━━━━━━━━━━━━━━\u001b[0m\u001b[37m\u001b[0m \u001b[1m7s\u001b[0m 18ms/step - accuracy: 0.4935 - loss: 1.7716 - val_accuracy: 0.5290 - val_loss: 1.8367\n",
      "Epoch 13/200\n",
      "\u001b[1m364/366\u001b[0m \u001b[32m━━━━━━━━━━━━━━━━━━━\u001b[0m\u001b[37m━\u001b[0m \u001b[1m0s\u001b[0m 17ms/step - accuracy: 0.3328 - loss: 2.3586\n",
      "Epoch 13: val_accuracy did not improve from 0.75290\n",
      "\u001b[1m366/366\u001b[0m \u001b[32m━━━━━━━━━━━━━━━━━━━━\u001b[0m\u001b[37m\u001b[0m \u001b[1m6s\u001b[0m 17ms/step - accuracy: 0.3329 - loss: 2.3581 - val_accuracy: 0.5598 - val_loss: 1.5181\n",
      "Epoch 14/200\n",
      "\u001b[1m364/366\u001b[0m \u001b[32m━━━━━━━━━━━━━━━━━━━\u001b[0m\u001b[37m━\u001b[0m \u001b[1m0s\u001b[0m 18ms/step - accuracy: 0.2204 - loss: 2.7112\n",
      "Epoch 14: val_accuracy did not improve from 0.75290\n",
      "\u001b[1m366/366\u001b[0m \u001b[32m━━━━━━━━━━━━━━━━━━━━\u001b[0m\u001b[37m\u001b[0m \u001b[1m7s\u001b[0m 18ms/step - accuracy: 0.2195 - loss: 2.7139 - val_accuracy: 0.0695 - val_loss: 3.1929\n",
      "Epoch 15/200\n",
      "\u001b[1m365/366\u001b[0m \u001b[32m━━━━━━━━━━━━━━━━━━━\u001b[0m\u001b[37m━\u001b[0m \u001b[1m0s\u001b[0m 18ms/step - accuracy: 0.0602 - loss: 3.1849\n",
      "Epoch 15: val_accuracy did not improve from 0.75290\n",
      "\u001b[1m366/366\u001b[0m \u001b[32m━━━━━━━━━━━━━━━━━━━━\u001b[0m\u001b[37m\u001b[0m \u001b[1m7s\u001b[0m 18ms/step - accuracy: 0.0602 - loss: 3.1848 - val_accuracy: 0.0734 - val_loss: 3.1679\n",
      "Epoch 16/200\n",
      "\u001b[1m365/366\u001b[0m \u001b[32m━━━━━━━━━━━━━━━━━━━\u001b[0m\u001b[37m━\u001b[0m \u001b[1m0s\u001b[0m 18ms/step - accuracy: 0.1245 - loss: 2.9964\n",
      "Epoch 16: val_accuracy did not improve from 0.75290\n",
      "\u001b[1m366/366\u001b[0m \u001b[32m━━━━━━━━━━━━━━━━━━━━\u001b[0m\u001b[37m\u001b[0m \u001b[1m7s\u001b[0m 19ms/step - accuracy: 0.1249 - loss: 2.9951 - val_accuracy: 0.4286 - val_loss: 2.1605\n",
      "Epoch 17/200\n",
      "\u001b[1m364/366\u001b[0m \u001b[32m━━━━━━━━━━━━━━━━━━━\u001b[0m\u001b[37m━\u001b[0m \u001b[1m0s\u001b[0m 19ms/step - accuracy: 0.2794 - loss: 2.5503\n",
      "Epoch 17: val_accuracy did not improve from 0.75290\n",
      "\u001b[1m366/366\u001b[0m \u001b[32m━━━━━━━━━━━━━━━━━━━━\u001b[0m\u001b[37m\u001b[0m \u001b[1m7s\u001b[0m 20ms/step - accuracy: 0.2794 - loss: 2.5504 - val_accuracy: 0.3861 - val_loss: 2.2765\n",
      "Epoch 18/200\n",
      "\u001b[1m366/366\u001b[0m \u001b[32m━━━━━━━━━━━━━━━━━━━━\u001b[0m\u001b[37m\u001b[0m \u001b[1m0s\u001b[0m 20ms/step - accuracy: 0.2820 - loss: 2.5187\n",
      "Epoch 18: val_accuracy did not improve from 0.75290\n",
      "\u001b[1m366/366\u001b[0m \u001b[32m━━━━━━━━━━━━━━━━━━━━\u001b[0m\u001b[37m\u001b[0m \u001b[1m8s\u001b[0m 20ms/step - accuracy: 0.2820 - loss: 2.5187 - val_accuracy: 0.4324 - val_loss: 2.1344\n",
      "Epoch 19/200\n",
      "\u001b[1m365/366\u001b[0m \u001b[32m━━━━━━━━━━━━━━━━━━━\u001b[0m\u001b[37m━\u001b[0m \u001b[1m0s\u001b[0m 19ms/step - accuracy: 0.3216 - loss: 2.4280\n",
      "Epoch 19: val_accuracy did not improve from 0.75290\n",
      "\u001b[1m366/366\u001b[0m \u001b[32m━━━━━━━━━━━━━━━━━━━━\u001b[0m\u001b[37m\u001b[0m \u001b[1m7s\u001b[0m 19ms/step - accuracy: 0.3215 - loss: 2.4281 - val_accuracy: 0.4054 - val_loss: 2.2664\n",
      "Epoch 20/200\n",
      "\u001b[1m364/366\u001b[0m \u001b[32m━━━━━━━━━━━━━━━━━━━\u001b[0m\u001b[37m━\u001b[0m \u001b[1m0s\u001b[0m 17ms/step - accuracy: 0.3219 - loss: 2.4100\n",
      "Epoch 20: val_accuracy did not improve from 0.75290\n",
      "\u001b[1m366/366\u001b[0m \u001b[32m━━━━━━━━━━━━━━━━━━━━\u001b[0m\u001b[37m\u001b[0m \u001b[1m6s\u001b[0m 17ms/step - accuracy: 0.3218 - loss: 2.4101 - val_accuracy: 0.4402 - val_loss: 2.1599\n",
      "Epoch 21/200\n",
      "\u001b[1m366/366\u001b[0m \u001b[32m━━━━━━━━━━━━━━━━━━━━\u001b[0m\u001b[37m\u001b[0m \u001b[1m0s\u001b[0m 17ms/step - accuracy: 0.3164 - loss: 2.4336\n",
      "Epoch 21: val_accuracy did not improve from 0.75290\n",
      "\u001b[1m366/366\u001b[0m \u001b[32m━━━━━━━━━━━━━━━━━━━━\u001b[0m\u001b[37m\u001b[0m \u001b[1m6s\u001b[0m 17ms/step - accuracy: 0.3164 - loss: 2.4336 - val_accuracy: 0.4595 - val_loss: 2.1079\n",
      "Epoch 22/200\n",
      "\u001b[1m364/366\u001b[0m \u001b[32m━━━━━━━━━━━━━━━━━━━\u001b[0m\u001b[37m━\u001b[0m \u001b[1m0s\u001b[0m 18ms/step - accuracy: 0.3241 - loss: 2.4146\n",
      "Epoch 22: val_accuracy did not improve from 0.75290\n",
      "\u001b[1m366/366\u001b[0m \u001b[32m━━━━━━━━━━━━━━━━━━━━\u001b[0m\u001b[37m\u001b[0m \u001b[1m7s\u001b[0m 18ms/step - accuracy: 0.3240 - loss: 2.4146 - val_accuracy: 0.4402 - val_loss: 2.2996\n",
      "Epoch 23/200\n",
      "\u001b[1m364/366\u001b[0m \u001b[32m━━━━━━━━━━━━━━━━━━━\u001b[0m\u001b[37m━\u001b[0m \u001b[1m0s\u001b[0m 17ms/step - accuracy: 0.3089 - loss: 2.4395\n",
      "Epoch 23: val_accuracy did not improve from 0.75290\n",
      "\u001b[1m366/366\u001b[0m \u001b[32m━━━━━━━━━━━━━━━━━━━━\u001b[0m\u001b[37m\u001b[0m \u001b[1m6s\u001b[0m 18ms/step - accuracy: 0.3089 - loss: 2.4394 - val_accuracy: 0.4633 - val_loss: 2.1225\n",
      "Epoch 24/200\n",
      "\u001b[1m364/366\u001b[0m \u001b[32m━━━━━━━━━━━━━━━━━━━\u001b[0m\u001b[37m━\u001b[0m \u001b[1m0s\u001b[0m 17ms/step - accuracy: 0.3274 - loss: 2.4077\n",
      "Epoch 24: val_accuracy did not improve from 0.75290\n",
      "\u001b[1m366/366\u001b[0m \u001b[32m━━━━━━━━━━━━━━━━━━━━\u001b[0m\u001b[37m\u001b[0m \u001b[1m6s\u001b[0m 17ms/step - accuracy: 0.3274 - loss: 2.4078 - val_accuracy: 0.4556 - val_loss: 2.1550\n"
     ]
    },
    {
     "name": "stdout",
     "output_type": "stream",
     "text": [
      "Epoch 25/200\n",
      "\u001b[1m364/366\u001b[0m \u001b[32m━━━━━━━━━━━━━━━━━━━\u001b[0m\u001b[37m━\u001b[0m \u001b[1m0s\u001b[0m 17ms/step - accuracy: 0.3125 - loss: 2.4572\n",
      "Epoch 25: val_accuracy did not improve from 0.75290\n",
      "\u001b[1m366/366\u001b[0m \u001b[32m━━━━━━━━━━━━━━━━━━━━\u001b[0m\u001b[37m\u001b[0m \u001b[1m6s\u001b[0m 17ms/step - accuracy: 0.3125 - loss: 2.4573 - val_accuracy: 0.3822 - val_loss: 2.1987\n",
      "Epoch 25: early stopping\n"
     ]
    }
   ],
   "source": [
    "history = model_1.fit(\n",
    "    x=x_train_prep,\n",
    "    y=y_train_cat, \n",
    "    batch_size=64,\n",
    "    epochs=200,\n",
    "    verbose=1,\n",
    "    validation_data=(x_test_prep, y_test_cat),\n",
    "    validation_batch_size=32,\n",
    "    callbacks=[checkpoint, early_stopping]\n",
    ")"
   ]
  },
  {
   "cell_type": "code",
   "execution_count": 25,
   "metadata": {},
   "outputs": [
    {
     "data": {
      "image/png": "[encoded data removed]",
      "text/plain": [
       "<Figure size 640x480 with 1 Axes>"
      ]
     },
     "metadata": {},
     "output_type": "display_data"
    }
   ],
   "source": [
    "history_dict = history.history\n",
    "loss_values = history_dict['loss']\n",
    "val_loss_values = history_dict['val_loss']\n",
    "epochs = range(1, 25+1)\n",
    "#print(len(epochs))\n",
    "plt.plot(epochs, loss_values, '-', label='Training loss', color='r')\n",
    "plt.plot(epochs, val_loss_values, '-', label='Validation loss', color='g') \n",
    "plt.title('Training and validation loss')\n",
    "plt.xlabel('Epochs')\n",
    "plt.ylabel('Loss')\n",
    "plt.legend()\n",
    "plt.show()"
   ]
  },
  {
   "cell_type": "code",
   "execution_count": 26,
   "metadata": {},
   "outputs": [
    {
     "name": "stdout",
     "output_type": "stream",
     "text": [
      "\u001b[1m9/9\u001b[0m \u001b[32m━━━━━━━━━━━━━━━━━━━━\u001b[0m\u001b[37m\u001b[0m \u001b[1m0s\u001b[0m 19ms/step\n"
     ]
    }
   ],
   "source": [
    "y_pred = model_1.predict(x_test_prep)\n",
    "#y_pred_val = model.predict(x_val_prep)\n",
    "\n",
    "y_preds_class_1 = np.argmax(y_pred, axis=1).tolist()\n",
    "#y_preds_class_val = np.argmax(y_pred_val, axis=1).tolist()"
   ]
  },
  {
   "cell_type": "code",
   "execution_count": 27,
   "metadata": {},
   "outputs": [
    {
     "name": "stdout",
     "output_type": "stream",
     "text": [
      "Точность на тесте (без аугументации): 0.38223938223938225\n"
     ]
    }
   ],
   "source": [
    "accuracy_test = accuracy_score(y_test_encoded, y_preds_class_1)\n",
    "print(f\"Точность на тесте (без аугументации): {accuracy_test}\")\n",
    "\n",
    "#accuracy_val = accuracy_score(y_val_encoded, y_preds_class_val)\n",
    "#print(f\"Точность на валидации: {accuracy_val}\")"
   ]
  },
  {
   "cell_type": "code",
   "execution_count": 28,
   "metadata": {},
   "outputs": [
    {
     "name": "stdout",
     "output_type": "stream",
     "text": [
      "              precision    recall  f1-score   support\n",
      "\n",
      "           0       0.38      0.45      0.42        11\n",
      "           1       0.50      0.45      0.48        11\n",
      "           2       0.31      0.36      0.33        11\n",
      "           3       0.22      0.44      0.30         9\n",
      "           4       0.00      0.00      0.00        10\n",
      "           5       0.46      0.60      0.52        10\n",
      "           6       0.43      0.50      0.46        12\n",
      "           7       0.32      0.55      0.40        11\n",
      "           8       0.27      0.30      0.29        10\n",
      "           9       0.47      0.70      0.56        10\n",
      "          10       0.50      0.09      0.15        11\n",
      "          11       0.00      0.00      0.00         9\n",
      "          12       0.40      0.40      0.40        10\n",
      "          13       0.60      0.30      0.40        10\n",
      "          14       0.67      0.22      0.33         9\n",
      "          15       0.45      0.45      0.45        11\n",
      "          16       0.50      0.30      0.37        10\n",
      "          17       0.38      0.50      0.43        10\n",
      "          18       0.50      0.40      0.44        10\n",
      "          19       0.57      0.73      0.64        11\n",
      "          20       0.33      0.60      0.43        10\n",
      "          21       0.29      0.20      0.24        10\n",
      "          22       0.41      0.54      0.47        13\n",
      "          23       0.20      0.22      0.21         9\n",
      "          24       0.14      0.09      0.11        11\n",
      "\n",
      "    accuracy                           0.38       259\n",
      "   macro avg       0.37      0.38      0.35       259\n",
      "weighted avg       0.38      0.38      0.36       259\n",
      "\n"
     ]
    }
   ],
   "source": [
    "from sklearn.metrics import classification_report\n",
    "\n",
    "\n",
    "print(classification_report(y_test_encoded, y_preds_class_1)) "
   ]
  },
  {
   "cell_type": "code",
   "execution_count": 29,
   "metadata": {},
   "outputs": [
    {
     "name": "stdout",
     "output_type": "stream",
     "text": [
      "Precision: 0.37562920481982837\n",
      "Recall: 0.38223938223938225\n",
      "F1-score: 0.3585506448710495\n"
     ]
    }
   ],
   "source": [
    "from sklearn.metrics import precision_score, recall_score, f1_score\n",
    "\n",
    "precision = precision_score(y_test_encoded, y_preds_class_1, average='weighted')\n",
    "recall = recall_score(y_test_encoded, y_preds_class_1, average='weighted')\n",
    "f1 = f1_score(y_test_encoded, y_preds_class_1, average='weighted')\n",
    "\n",
    "print(\"Precision:\", precision)\n",
    "print(\"Recall:\", recall)\n",
    "print(\"F1-score:\", f1)"
   ]
  }
 ],
 "metadata": {
  "kaggle": {
   "accelerator": "nvidiaTeslaT4",
   "dataSources": [
    {
     "datasetId": 23079,
     "sourceId": 29550,
     "sourceType": "datasetVersion"
    }
   ],
   "dockerImageVersionId": 30664,
   "isGpuEnabled": true,
   "isInternetEnabled": true,
   "language": "python",
   "sourceType": "notebook"
  },
  "kernelspec": {
   "display_name": "Python 3 (ipykernel)",
   "language": "python",
   "name": "python3"
  },
  "language_info": {
   "codemirror_mode": {
    "name": "ipython",
    "version": 3
   },
   "file_extension": ".py",
   "mimetype": "text/x-python",
   "name": "python",
   "nbconvert_exporter": "python",
   "pygments_lexer": "ipython3",
   "version": "3.11.6"
  }
 },
 "nbformat": 4,
 "nbformat_minor": 4
}
