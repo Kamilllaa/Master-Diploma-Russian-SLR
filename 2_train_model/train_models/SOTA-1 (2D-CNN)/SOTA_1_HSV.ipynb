{
 "cells": [
  {
   "cell_type": "markdown",
   "metadata": {},
   "source": [
    "# [Visual Static Hand Gesture Recognition Using Convolutional Neural Network](https://www.mdpi.com/1999-4893/16/8/361)\n",
    "\n",
    "Ссылка кликабельна и ведет на статью"
   ]
  },
  {
   "cell_type": "code",
   "execution_count": 1,
   "metadata": {},
   "outputs": [],
   "source": [
    "import numpy as np \n",
    "import pandas as pd \n",
    "import glob\n",
    "import os\n",
    "import cv2\n",
    "from sklearn.model_selection import train_test_split\n",
    "from sklearn.preprocessing import LabelEncoder\n",
    "import matplotlib.pyplot as plt\n",
    "import tensorflow as tf\n",
    "from PIL import Image\n",
    "import keras\n",
    "from scipy.ndimage import rotate\n",
    "from sklearn.metrics import accuracy_score\n",
    "import random"
   ]
  },
  {
   "cell_type": "markdown",
   "metadata": {},
   "source": [
    "# 1. Look at the Data"
   ]
  },
  {
   "cell_type": "code",
   "execution_count": 2,
   "metadata": {
    "execution": {
     "iopub.execute_input": "2024-03-16T11:22:32.442742Z",
     "iopub.status.busy": "2024-03-16T11:22:32.442431Z",
     "iopub.status.idle": "2024-03-16T11:22:32.475710Z",
     "shell.execute_reply": "2024-03-16T11:22:32.474927Z",
     "shell.execute_reply.started": "2024-03-16T11:22:32.442708Z"
    }
   },
   "outputs": [
    {
     "name": "stdout",
     "output_type": "stream",
     "text": [
      "DataFrame for train is ready. Processed 0\n",
      "DataFrame for test is ready. Processed 0\n"
     ]
    }
   ],
   "source": [
    "DATA_PATH = \"/Users/kamilla/Desktop/masters_diploma/SOTA_MODELS/data/croped_images\"\n",
    "RANDOM_STATE = 1228\n",
    "keras.utils.set_random_seed(RANDOM_STATE)\n",
    "np.random.seed(RANDOM_STATE)\n",
    "\n",
    "TEST_DATA_PATH = '/Users/kamilla/Desktop/masters_diploma/SOTA_MODELS/data/croped_test_01_06_cv'\n",
    "TRAIN_DATA_PATH = '/Users/kamilla/Desktop/masters_diploma/SOTA_MODELS/data/croped_train_01_06_cv'\n",
    "#VAL_DATA_PATH = '/Users/kamilla/Desktop/masters_diploma/SOTA_MODELS/SOTA_3/data_SOTA_3/temp_val'\n",
    "\n",
    "# Создадим датафрейм, где будем сохранять путь до картинки и ее лейбл\n",
    "\n",
    "dactyl = [\"А\", \"Б\", \"В\", \"Г\", \"Е\",\n",
    "          \"Ж\", \"И\", \"К\", \"Л\", \"М\",\n",
    "          \"Н\", \"О\", \"П\", \"Р\", \"С\",\n",
    "          \"Т\", \"У\", \"Ф\", \"Х\", \"Ч\",\n",
    "          \"Ш\", \"Ы\", \"Э\", \"Ю\", \"Я\"]\n",
    "\n",
    "def get_metadata(data_path):\n",
    "    list_path = []\n",
    "    list_labels = []\n",
    "    for label in dactyl:\n",
    "        label_path = os.path.join(data_path, label, \"*\")\n",
    "        image_files = glob.glob(label_path)\n",
    "\n",
    "        sign_label = [label] * len(image_files)\n",
    "\n",
    "        list_path.extend(image_files)\n",
    "        list_labels.extend(sign_label)\n",
    "\n",
    "    metadata = pd.DataFrame({\n",
    "        \"image_path\": list_path,\n",
    "        \"label\": list_labels\n",
    "    })\n",
    "    return metadata\n",
    "\n",
    "train_df = get_metadata(TRAIN_DATA_PATH)\n",
    "print(f\"DataFrame for train is ready. Processed {len(train_df)}\")\n",
    "test_df = get_metadata(TEST_DATA_PATH)\n",
    "print(f\"DataFrame for test is ready. Processed {len(test_df)}\")\n",
    "#val_df = get_metadata(VAL_DATA_PATH)\n",
    "#print(f\"DataFrame for val is ready. Processed {len(val_df)}\")"
   ]
  },
  {
   "cell_type": "code",
   "execution_count": 3,
   "metadata": {},
   "outputs": [
    {
     "ename": "ValueError",
     "evalue": "zero-size array to reduction operation maximum which has no identity",
     "output_type": "error",
     "traceback": [
      "\u001b[0;31m---------------------------------------------------------------------------\u001b[0m",
      "\u001b[0;31mValueError\u001b[0m                                Traceback (most recent call last)",
      "Cell \u001b[0;32mIn[3], line 7\u001b[0m\n\u001b[1;32m      5\u001b[0m le\u001b[38;5;241m.\u001b[39mfit(y_train)\n\u001b[1;32m      6\u001b[0m y_train_encoded \u001b[38;5;241m=\u001b[39m le\u001b[38;5;241m.\u001b[39mtransform(y_train)\n\u001b[0;32m----> 7\u001b[0m y_train_cat \u001b[38;5;241m=\u001b[39m \u001b[43mkeras\u001b[49m\u001b[38;5;241;43m.\u001b[39;49m\u001b[43mutils\u001b[49m\u001b[38;5;241;43m.\u001b[39;49m\u001b[43mto_categorical\u001b[49m\u001b[43m(\u001b[49m\u001b[43my_train_encoded\u001b[49m\u001b[43m)\u001b[49m\n\u001b[1;32m      9\u001b[0m y_test_encoded \u001b[38;5;241m=\u001b[39m le\u001b[38;5;241m.\u001b[39mtransform(y_test)\n\u001b[1;32m     10\u001b[0m y_test_cat \u001b[38;5;241m=\u001b[39m keras\u001b[38;5;241m.\u001b[39mutils\u001b[38;5;241m.\u001b[39mto_categorical(y_test_encoded)\n",
      "File \u001b[0;32m/opt/homebrew/lib/python3.11/site-packages/keras/src/utils/numerical_utils.py:86\u001b[0m, in \u001b[0;36mto_categorical\u001b[0;34m(x, num_classes)\u001b[0m\n\u001b[1;32m     84\u001b[0m x \u001b[38;5;241m=\u001b[39m x\u001b[38;5;241m.\u001b[39mreshape(\u001b[38;5;241m-\u001b[39m\u001b[38;5;241m1\u001b[39m)\n\u001b[1;32m     85\u001b[0m \u001b[38;5;28;01mif\u001b[39;00m \u001b[38;5;129;01mnot\u001b[39;00m num_classes:\n\u001b[0;32m---> 86\u001b[0m     num_classes \u001b[38;5;241m=\u001b[39m \u001b[43mnp\u001b[49m\u001b[38;5;241;43m.\u001b[39;49m\u001b[43mmax\u001b[49m\u001b[43m(\u001b[49m\u001b[43mx\u001b[49m\u001b[43m)\u001b[49m \u001b[38;5;241m+\u001b[39m \u001b[38;5;241m1\u001b[39m\n\u001b[1;32m     87\u001b[0m batch_size \u001b[38;5;241m=\u001b[39m x\u001b[38;5;241m.\u001b[39mshape[\u001b[38;5;241m0\u001b[39m]\n\u001b[1;32m     88\u001b[0m categorical \u001b[38;5;241m=\u001b[39m np\u001b[38;5;241m.\u001b[39mzeros((batch_size, num_classes))\n",
      "File \u001b[0;32m<__array_function__ internals>:200\u001b[0m, in \u001b[0;36mamax\u001b[0;34m(*args, **kwargs)\u001b[0m\n",
      "File \u001b[0;32m/opt/homebrew/lib/python3.11/site-packages/numpy/core/fromnumeric.py:2820\u001b[0m, in \u001b[0;36mamax\u001b[0;34m(a, axis, out, keepdims, initial, where)\u001b[0m\n\u001b[1;32m   2703\u001b[0m \u001b[38;5;129m@array_function_dispatch\u001b[39m(_amax_dispatcher)\n\u001b[1;32m   2704\u001b[0m \u001b[38;5;28;01mdef\u001b[39;00m \u001b[38;5;21mamax\u001b[39m(a, axis\u001b[38;5;241m=\u001b[39m\u001b[38;5;28;01mNone\u001b[39;00m, out\u001b[38;5;241m=\u001b[39m\u001b[38;5;28;01mNone\u001b[39;00m, keepdims\u001b[38;5;241m=\u001b[39mnp\u001b[38;5;241m.\u001b[39m_NoValue, initial\u001b[38;5;241m=\u001b[39mnp\u001b[38;5;241m.\u001b[39m_NoValue,\n\u001b[1;32m   2705\u001b[0m          where\u001b[38;5;241m=\u001b[39mnp\u001b[38;5;241m.\u001b[39m_NoValue):\n\u001b[1;32m   2706\u001b[0m \u001b[38;5;250m    \u001b[39m\u001b[38;5;124;03m\"\"\"\u001b[39;00m\n\u001b[1;32m   2707\u001b[0m \u001b[38;5;124;03m    Return the maximum of an array or maximum along an axis.\u001b[39;00m\n\u001b[1;32m   2708\u001b[0m \n\u001b[0;32m   (...)\u001b[0m\n\u001b[1;32m   2818\u001b[0m \u001b[38;5;124;03m    5\u001b[39;00m\n\u001b[1;32m   2819\u001b[0m \u001b[38;5;124;03m    \"\"\"\u001b[39;00m\n\u001b[0;32m-> 2820\u001b[0m     \u001b[38;5;28;01mreturn\u001b[39;00m \u001b[43m_wrapreduction\u001b[49m\u001b[43m(\u001b[49m\u001b[43ma\u001b[49m\u001b[43m,\u001b[49m\u001b[43m \u001b[49m\u001b[43mnp\u001b[49m\u001b[38;5;241;43m.\u001b[39;49m\u001b[43mmaximum\u001b[49m\u001b[43m,\u001b[49m\u001b[43m \u001b[49m\u001b[38;5;124;43m'\u001b[39;49m\u001b[38;5;124;43mmax\u001b[39;49m\u001b[38;5;124;43m'\u001b[39;49m\u001b[43m,\u001b[49m\u001b[43m \u001b[49m\u001b[43maxis\u001b[49m\u001b[43m,\u001b[49m\u001b[43m \u001b[49m\u001b[38;5;28;43;01mNone\u001b[39;49;00m\u001b[43m,\u001b[49m\u001b[43m \u001b[49m\u001b[43mout\u001b[49m\u001b[43m,\u001b[49m\n\u001b[1;32m   2821\u001b[0m \u001b[43m                          \u001b[49m\u001b[43mkeepdims\u001b[49m\u001b[38;5;241;43m=\u001b[39;49m\u001b[43mkeepdims\u001b[49m\u001b[43m,\u001b[49m\u001b[43m \u001b[49m\u001b[43minitial\u001b[49m\u001b[38;5;241;43m=\u001b[39;49m\u001b[43minitial\u001b[49m\u001b[43m,\u001b[49m\u001b[43m \u001b[49m\u001b[43mwhere\u001b[49m\u001b[38;5;241;43m=\u001b[39;49m\u001b[43mwhere\u001b[49m\u001b[43m)\u001b[49m\n",
      "File \u001b[0;32m/opt/homebrew/lib/python3.11/site-packages/numpy/core/fromnumeric.py:86\u001b[0m, in \u001b[0;36m_wrapreduction\u001b[0;34m(obj, ufunc, method, axis, dtype, out, **kwargs)\u001b[0m\n\u001b[1;32m     83\u001b[0m         \u001b[38;5;28;01melse\u001b[39;00m:\n\u001b[1;32m     84\u001b[0m             \u001b[38;5;28;01mreturn\u001b[39;00m reduction(axis\u001b[38;5;241m=\u001b[39maxis, out\u001b[38;5;241m=\u001b[39mout, \u001b[38;5;241m*\u001b[39m\u001b[38;5;241m*\u001b[39mpasskwargs)\n\u001b[0;32m---> 86\u001b[0m \u001b[38;5;28;01mreturn\u001b[39;00m \u001b[43mufunc\u001b[49m\u001b[38;5;241;43m.\u001b[39;49m\u001b[43mreduce\u001b[49m\u001b[43m(\u001b[49m\u001b[43mobj\u001b[49m\u001b[43m,\u001b[49m\u001b[43m \u001b[49m\u001b[43maxis\u001b[49m\u001b[43m,\u001b[49m\u001b[43m \u001b[49m\u001b[43mdtype\u001b[49m\u001b[43m,\u001b[49m\u001b[43m \u001b[49m\u001b[43mout\u001b[49m\u001b[43m,\u001b[49m\u001b[43m \u001b[49m\u001b[38;5;241;43m*\u001b[39;49m\u001b[38;5;241;43m*\u001b[39;49m\u001b[43mpasskwargs\u001b[49m\u001b[43m)\u001b[49m\n",
      "\u001b[0;31mValueError\u001b[0m: zero-size array to reduction operation maximum which has no identity"
     ]
    }
   ],
   "source": [
    "y_train, x_train = train_df['label'], train_df['image_path']\n",
    "y_test, x_test = test_df['label'], test_df['image_path']\n",
    "\n",
    "x_train.reset_index(inplace=True, drop=True)\n",
    "#x_val.reset_index(inplace=True, drop=True)\n",
    "x_test.reset_index(inplace=True, drop=True)\n",
    "y_train.reset_index(inplace=True, drop=True)\n",
    "#y_val.reset_index(inplace=True, drop=True)\n",
    "y_test.reset_index(inplace=True, drop=True)"
   ]
  },
  {
   "cell_type": "code",
   "execution_count": 6,
   "metadata": {},
   "outputs": [],
   "source": [
    "# будем сжимать изображение\n",
    "\n",
    "def get_images(data):\n",
    "    new_data = []\n",
    "    for image in range(len(data)):\n",
    "        if data[image].endswith(\".jpg\") or data[image].endswith(\".jpeg\") or data[image].endswith(\".JPG\"):\n",
    "            numpy_image = cv2.imread(data[image], cv2.COLOR_RGB2BGR)\n",
    "            image_resized = cv2.resize(numpy_image, (32,32))\n",
    "            new_data.append(image_resized)\n",
    "    return new_data"
   ]
  },
  {
   "cell_type": "code",
   "execution_count": 7,
   "metadata": {},
   "outputs": [],
   "source": [
    "x_train_arr = get_images(x_train)\n",
    "x_test_arr = get_images(x_test)\n",
    "#x_val_arr = crop_to_square(x_val)"
   ]
  },
  {
   "cell_type": "markdown",
   "metadata": {},
   "source": [
    "# Data preproccesing \n",
    "## Skin Segmentation & Data Augmentation"
   ]
  },
  {
   "cell_type": "code",
   "execution_count": 10,
   "metadata": {},
   "outputs": [],
   "source": [
    "def do_preprocess_right(X_data, y_data, augmentation=False):\n",
    "    num_images = 0\n",
    "    skin_segmentation_images = []\n",
    "    labels = []\n",
    "\n",
    "    for i in range(len(X_data)):\n",
    "        if i % 100 == 0:\n",
    "            print(f\"Обработано {i} изображений\")\n",
    "        hsv_image = cv2.cvtColor(X_data[i], cv2.COLOR_BGR2HSV)\n",
    "\n",
    "        # В статье ограничивают только один канал\n",
    "        lower_skin = np.array([0, 0, 0]) \n",
    "        upper_skin = np.array([38, 255, 255]) \n",
    "\n",
    "        skin_mask = cv2.inRange(hsv_image, lower_skin, upper_skin)\n",
    "        skin_extracted_image = cv2.bitwise_and(X_data[i], X_data[i], mask=skin_mask)\n",
    "        \n",
    "        if augmentation is True: \n",
    "            rotation_degrees = np.random.choice(range(-20, 21), 10, replace=False)\n",
    "            for angle in rotation_degrees:\n",
    "                rotated_image = rotate(skin_extracted_image, angle, reshape=False)\n",
    "                #rotated_image_resized = cv2.resize(rotated_image, (32, 32))\n",
    "                skin_segmentation_images.append(rotated_image) \n",
    "                labels.append(y_data[i])\n",
    "        else:\n",
    "            #image_resized = cv2.resize(skin_extracted_image, (32, 32))\n",
    "            skin_segmentation_images.append(skin_extracted_image)\n",
    "            labels.append(y_data[i])\n",
    "        \n",
    "    return skin_segmentation_images, labels"
   ]
  },
  {
   "cell_type": "code",
   "execution_count": 11,
   "metadata": {},
   "outputs": [
    {
     "name": "stdout",
     "output_type": "stream",
     "text": [
      "Обработано 0 изображений\n",
      "Обработано 100 изображений\n",
      "Обработано 200 изображений\n",
      "Обработано 300 изображений\n",
      "Обработано 400 изображений\n",
      "Обработано 500 изображений\n",
      "Обработано 600 изображений\n",
      "Обработано 700 изображений\n",
      "Обработано 800 изображений\n",
      "Обработано 900 изображений\n",
      "Обработано 1000 изображений\n",
      "Обработано 1100 изображений\n",
      "Обработано 1200 изображений\n",
      "Обработано 1300 изображений\n",
      "Обработано 1400 изображений\n",
      "Обработано 1500 изображений\n",
      "Обработано 1600 изображений\n",
      "Обработано 1700 изображений\n",
      "Обработано 1800 изображений\n",
      "Обработано 1900 изображений\n",
      "Обработано 2000 изображений\n",
      "Обработано 2100 изображений\n",
      "Обработано 2200 изображений\n",
      "Обработано 2300 изображений\n",
      "Preproccesing for TRAIN is FINISHED\n",
      "Обработано 0 изображений\n",
      "Обработано 100 изображений\n",
      "Обработано 200 изображений\n",
      "Preproccesing for TEST is FINISHED\n"
     ]
    }
   ],
   "source": [
    "x_train_prep, y_train_prep = do_preprocess_right(x_train_arr, y_train, augmentation=True)\n",
    "print(\"Preproccesing for TRAIN is FINISHED\")\n",
    "x_test_prep, y_test_prep = do_preprocess_right(x_test_arr, y_test,augmentation=False)\n",
    "print(\"Preproccesing for TEST is FINISHED\")\n",
    "#x_val_prep, y_val_prep = do_preprocess(x_val_arr, y_val, augmentation=False)\n",
    "#print(\"Preproccesing for VALIDATION is FINISHED\")\n"
   ]
  },
  {
   "cell_type": "code",
   "execution_count": 12,
   "metadata": {},
   "outputs": [
    {
     "name": "stdout",
     "output_type": "stream",
     "text": [
      "Кол-во примеров после препроцессинга в X_data: 23390, в y_data 23390\n",
      "Кол-во примеров после препроцессинга в X_test: 259, в y_test 259\n"
     ]
    }
   ],
   "source": [
    "# Проверим данные\n",
    "\n",
    "print(f\"Кол-во примеров после препроцессинга в X_data: {len(x_train_prep)}, \\\n",
    "в y_data {len(y_train_prep)}\")\n",
    "\n",
    "print(f\"Кол-во примеров после препроцессинга в X_test: {len(x_test_prep)}, \\\n",
    "в y_test {len(y_test_prep)}\")"
   ]
  },
  {
   "cell_type": "code",
   "execution_count": 14,
   "metadata": {},
   "outputs": [
    {
     "data": {
      "text/plain": [
       "<matplotlib.image.AxesImage at 0x2a33cb390>"
      ]
     },
     "execution_count": 14,
     "metadata": {},
     "output_type": "execute_result"
    },
    {
     "data": {
      "image/png": "[encoded data removed]",
      "text/plain": [
       "<Figure size 640x480 with 1 Axes>"
      ]
     },
     "metadata": {},
     "output_type": "display_data"
    }
   ],
   "source": [
    "plt.title(y_test_prep[0])\n",
    "plt.imshow(x_test_prep[0])"
   ]
  },
  {
   "cell_type": "code",
   "execution_count": 15,
   "metadata": {},
   "outputs": [],
   "source": [
    "shuffled_data = list(zip(y_train_prep, x_train_prep))\n",
    "random.shuffle(shuffled_data)\n",
    "y_data_shuffled, x_train_shuffled = zip(*shuffled_data)"
   ]
  },
  {
   "cell_type": "code",
   "execution_count": 17,
   "metadata": {},
   "outputs": [
    {
     "data": {
      "text/plain": [
       "<matplotlib.image.AxesImage at 0x2a33f79d0>"
      ]
     },
     "execution_count": 17,
     "metadata": {},
     "output_type": "execute_result"
    },
    {
     "data": {
      "image/png": "[encoded data removed]",
      "text/plain": [
       "<Figure size 640x480 with 1 Axes>"
      ]
     },
     "metadata": {},
     "output_type": "display_data"
    }
   ],
   "source": [
    "plt.imshow(x_train_shuffled[6])"
   ]
  },
  {
   "cell_type": "code",
   "execution_count": 18,
   "metadata": {},
   "outputs": [],
   "source": [
    "le = LabelEncoder()\n",
    "le.fit(y_data_shuffled)\n",
    "y_train_encoded = le.transform(y_data_shuffled)\n",
    "y_train_cat = keras.utils.to_categorical(y_train_encoded)\n",
    "\n",
    "y_test_encoded = le.transform(y_test_prep)\n",
    "y_test_cat = keras.utils.to_categorical(y_test_encoded)\n",
    "\n",
    "#y_val_encoded = le.transform(y_val_prep)\n",
    "#y_val_cat = keras.utils.to_categorical(y_val_encoded)"
   ]
  },
  {
   "cell_type": "markdown",
   "metadata": {},
   "source": [
    "# Model implementation"
   ]
  },
  {
   "cell_type": "code",
   "execution_count": 19,
   "metadata": {
    "execution": {
     "iopub.execute_input": "2024-03-16T11:22:55.625340Z",
     "iopub.status.busy": "2024-03-16T11:22:55.625093Z",
     "iopub.status.idle": "2024-03-16T11:22:55.638391Z",
     "shell.execute_reply": "2024-03-16T11:22:55.637671Z",
     "shell.execute_reply.started": "2024-03-16T11:22:55.625318Z"
    }
   },
   "outputs": [],
   "source": [
    "from keras.models import Sequential\n",
    "from keras.layers import Conv2D, MaxPooling2D, Activation, Dense, Flatten, Dropout, Input\n",
    "from keras.callbacks import ModelCheckpoint\n"
   ]
  },
  {
   "cell_type": "code",
   "execution_count": 20,
   "metadata": {
    "execution": {
     "iopub.execute_input": "2024-03-16T11:23:47.028124Z",
     "iopub.status.busy": "2024-03-16T11:23:47.027448Z",
     "iopub.status.idle": "2024-03-16T11:23:47.098286Z",
     "shell.execute_reply": "2024-03-16T11:23:47.097393Z",
     "shell.execute_reply.started": "2024-03-16T11:23:47.028089Z"
    }
   },
   "outputs": [
    {
     "name": "stderr",
     "output_type": "stream",
     "text": [
      "/opt/homebrew/lib/python3.11/site-packages/keras/src/layers/convolutional/base_conv.py:107: UserWarning: Do not pass an `input_shape`/`input_dim` argument to a layer. When using Sequential models, prefer using an `Input(shape)` object as the first layer in the model instead.\n",
      "  super().__init__(activity_regularizer=activity_regularizer, **kwargs)\n"
     ]
    },
    {
     "data": {
      "text/html": [
       "<pre style=\"white-space:pre;overflow-x:auto;line-height:normal;font-family:Menlo,'DejaVu Sans Mono',consolas,'Courier New',monospace\"><span style=\"font-weight: bold\">Model: \"sequential\"</span>\n",
       "</pre>\n"
      ],
      "text/plain": [
       "\u001b[1mModel: \"sequential\"\u001b[0m\n"
      ]
     },
     "metadata": {},
     "output_type": "display_data"
    },
    {
     "data": {
      "text/html": [
       "<pre style=\"white-space:pre;overflow-x:auto;line-height:normal;font-family:Menlo,'DejaVu Sans Mono',consolas,'Courier New',monospace\">┏━━━━━━━━━━━━━━━━━━━━━━━━━━━━━━━━━┳━━━━━━━━━━━━━━━━━━━━━━━━┳━━━━━━━━━━━━━━━┓\n",
       "┃<span style=\"font-weight: bold\"> Layer (type)                    </span>┃<span style=\"font-weight: bold\"> Output Shape           </span>┃<span style=\"font-weight: bold\">       Param # </span>┃\n",
       "┡━━━━━━━━━━━━━━━━━━━━━━━━━━━━━━━━━╇━━━━━━━━━━━━━━━━━━━━━━━━╇━━━━━━━━━━━━━━━┩\n",
       "│ conv2d (<span style=\"color: #0087ff; text-decoration-color: #0087ff\">Conv2D</span>)                 │ (<span style=\"color: #00d7ff; text-decoration-color: #00d7ff\">None</span>, <span style=\"color: #00af00; text-decoration-color: #00af00\">29</span>, <span style=\"color: #00af00; text-decoration-color: #00af00\">29</span>, <span style=\"color: #00af00; text-decoration-color: #00af00\">15</span>)     │           <span style=\"color: #00af00; text-decoration-color: #00af00\">735</span> │\n",
       "├─────────────────────────────────┼────────────────────────┼───────────────┤\n",
       "│ max_pooling2d (<span style=\"color: #0087ff; text-decoration-color: #0087ff\">MaxPooling2D</span>)    │ (<span style=\"color: #00d7ff; text-decoration-color: #00d7ff\">None</span>, <span style=\"color: #00af00; text-decoration-color: #00af00\">14</span>, <span style=\"color: #00af00; text-decoration-color: #00af00\">14</span>, <span style=\"color: #00af00; text-decoration-color: #00af00\">15</span>)     │             <span style=\"color: #00af00; text-decoration-color: #00af00\">0</span> │\n",
       "├─────────────────────────────────┼────────────────────────┼───────────────┤\n",
       "│ conv2d_1 (<span style=\"color: #0087ff; text-decoration-color: #0087ff\">Conv2D</span>)               │ (<span style=\"color: #00d7ff; text-decoration-color: #00d7ff\">None</span>, <span style=\"color: #00af00; text-decoration-color: #00af00\">14</span>, <span style=\"color: #00af00; text-decoration-color: #00af00\">14</span>, <span style=\"color: #00af00; text-decoration-color: #00af00\">30</span>)     │           <span style=\"color: #00af00; text-decoration-color: #00af00\">480</span> │\n",
       "├─────────────────────────────────┼────────────────────────┼───────────────┤\n",
       "│ max_pooling2d_1 (<span style=\"color: #0087ff; text-decoration-color: #0087ff\">MaxPooling2D</span>)  │ (<span style=\"color: #00d7ff; text-decoration-color: #00d7ff\">None</span>, <span style=\"color: #00af00; text-decoration-color: #00af00\">7</span>, <span style=\"color: #00af00; text-decoration-color: #00af00\">7</span>, <span style=\"color: #00af00; text-decoration-color: #00af00\">30</span>)       │             <span style=\"color: #00af00; text-decoration-color: #00af00\">0</span> │\n",
       "├─────────────────────────────────┼────────────────────────┼───────────────┤\n",
       "│ flatten (<span style=\"color: #0087ff; text-decoration-color: #0087ff\">Flatten</span>)               │ (<span style=\"color: #00d7ff; text-decoration-color: #00d7ff\">None</span>, <span style=\"color: #00af00; text-decoration-color: #00af00\">1470</span>)           │             <span style=\"color: #00af00; text-decoration-color: #00af00\">0</span> │\n",
       "├─────────────────────────────────┼────────────────────────┼───────────────┤\n",
       "│ dropout (<span style=\"color: #0087ff; text-decoration-color: #0087ff\">Dropout</span>)               │ (<span style=\"color: #00d7ff; text-decoration-color: #00d7ff\">None</span>, <span style=\"color: #00af00; text-decoration-color: #00af00\">1470</span>)           │             <span style=\"color: #00af00; text-decoration-color: #00af00\">0</span> │\n",
       "├─────────────────────────────────┼────────────────────────┼───────────────┤\n",
       "│ dense (<span style=\"color: #0087ff; text-decoration-color: #0087ff\">Dense</span>)                   │ (<span style=\"color: #00d7ff; text-decoration-color: #00d7ff\">None</span>, <span style=\"color: #00af00; text-decoration-color: #00af00\">25</span>)             │        <span style=\"color: #00af00; text-decoration-color: #00af00\">36,775</span> │\n",
       "└─────────────────────────────────┴────────────────────────┴───────────────┘\n",
       "</pre>\n"
      ],
      "text/plain": [
       "┏━━━━━━━━━━━━━━━━━━━━━━━━━━━━━━━━━┳━━━━━━━━━━━━━━━━━━━━━━━━┳━━━━━━━━━━━━━━━┓\n",
       "┃\u001b[1m \u001b[0m\u001b[1mLayer (type)                   \u001b[0m\u001b[1m \u001b[0m┃\u001b[1m \u001b[0m\u001b[1mOutput Shape          \u001b[0m\u001b[1m \u001b[0m┃\u001b[1m \u001b[0m\u001b[1m      Param #\u001b[0m\u001b[1m \u001b[0m┃\n",
       "┡━━━━━━━━━━━━━━━━━━━━━━━━━━━━━━━━━╇━━━━━━━━━━━━━━━━━━━━━━━━╇━━━━━━━━━━━━━━━┩\n",
       "│ conv2d (\u001b[38;5;33mConv2D\u001b[0m)                 │ (\u001b[38;5;45mNone\u001b[0m, \u001b[38;5;34m29\u001b[0m, \u001b[38;5;34m29\u001b[0m, \u001b[38;5;34m15\u001b[0m)     │           \u001b[38;5;34m735\u001b[0m │\n",
       "├─────────────────────────────────┼────────────────────────┼───────────────┤\n",
       "│ max_pooling2d (\u001b[38;5;33mMaxPooling2D\u001b[0m)    │ (\u001b[38;5;45mNone\u001b[0m, \u001b[38;5;34m14\u001b[0m, \u001b[38;5;34m14\u001b[0m, \u001b[38;5;34m15\u001b[0m)     │             \u001b[38;5;34m0\u001b[0m │\n",
       "├─────────────────────────────────┼────────────────────────┼───────────────┤\n",
       "│ conv2d_1 (\u001b[38;5;33mConv2D\u001b[0m)               │ (\u001b[38;5;45mNone\u001b[0m, \u001b[38;5;34m14\u001b[0m, \u001b[38;5;34m14\u001b[0m, \u001b[38;5;34m30\u001b[0m)     │           \u001b[38;5;34m480\u001b[0m │\n",
       "├─────────────────────────────────┼────────────────────────┼───────────────┤\n",
       "│ max_pooling2d_1 (\u001b[38;5;33mMaxPooling2D\u001b[0m)  │ (\u001b[38;5;45mNone\u001b[0m, \u001b[38;5;34m7\u001b[0m, \u001b[38;5;34m7\u001b[0m, \u001b[38;5;34m30\u001b[0m)       │             \u001b[38;5;34m0\u001b[0m │\n",
       "├─────────────────────────────────┼────────────────────────┼───────────────┤\n",
       "│ flatten (\u001b[38;5;33mFlatten\u001b[0m)               │ (\u001b[38;5;45mNone\u001b[0m, \u001b[38;5;34m1470\u001b[0m)           │             \u001b[38;5;34m0\u001b[0m │\n",
       "├─────────────────────────────────┼────────────────────────┼───────────────┤\n",
       "│ dropout (\u001b[38;5;33mDropout\u001b[0m)               │ (\u001b[38;5;45mNone\u001b[0m, \u001b[38;5;34m1470\u001b[0m)           │             \u001b[38;5;34m0\u001b[0m │\n",
       "├─────────────────────────────────┼────────────────────────┼───────────────┤\n",
       "│ dense (\u001b[38;5;33mDense\u001b[0m)                   │ (\u001b[38;5;45mNone\u001b[0m, \u001b[38;5;34m25\u001b[0m)             │        \u001b[38;5;34m36,775\u001b[0m │\n",
       "└─────────────────────────────────┴────────────────────────┴───────────────┘\n"
      ]
     },
     "metadata": {},
     "output_type": "display_data"
    },
    {
     "data": {
      "text/html": [
       "<pre style=\"white-space:pre;overflow-x:auto;line-height:normal;font-family:Menlo,'DejaVu Sans Mono',consolas,'Courier New',monospace\"><span style=\"font-weight: bold\"> Total params: </span><span style=\"color: #00af00; text-decoration-color: #00af00\">37,990</span> (148.40 KB)\n",
       "</pre>\n"
      ],
      "text/plain": [
       "\u001b[1m Total params: \u001b[0m\u001b[38;5;34m37,990\u001b[0m (148.40 KB)\n"
      ]
     },
     "metadata": {},
     "output_type": "display_data"
    },
    {
     "data": {
      "text/html": [
       "<pre style=\"white-space:pre;overflow-x:auto;line-height:normal;font-family:Menlo,'DejaVu Sans Mono',consolas,'Courier New',monospace\"><span style=\"font-weight: bold\"> Trainable params: </span><span style=\"color: #00af00; text-decoration-color: #00af00\">37,990</span> (148.40 KB)\n",
       "</pre>\n"
      ],
      "text/plain": [
       "\u001b[1m Trainable params: \u001b[0m\u001b[38;5;34m37,990\u001b[0m (148.40 KB)\n"
      ]
     },
     "metadata": {},
     "output_type": "display_data"
    },
    {
     "data": {
      "text/html": [
       "<pre style=\"white-space:pre;overflow-x:auto;line-height:normal;font-family:Menlo,'DejaVu Sans Mono',consolas,'Courier New',monospace\"><span style=\"font-weight: bold\"> Non-trainable params: </span><span style=\"color: #00af00; text-decoration-color: #00af00\">0</span> (0.00 B)\n",
       "</pre>\n"
      ],
      "text/plain": [
       "\u001b[1m Non-trainable params: \u001b[0m\u001b[38;5;34m0\u001b[0m (0.00 B)\n"
      ]
     },
     "metadata": {},
     "output_type": "display_data"
    }
   ],
   "source": [
    "model_1 = Sequential()\n",
    "model_1.add(Conv2D(15, 4, activation='relu', input_shape=(32,32,3)))\n",
    "model_1.add(MaxPooling2D(pool_size=(2, 2)))\n",
    "model_1.add(Conv2D(30, 1,  activation='relu', padding=\"same\", use_bias=True))\n",
    "model_1.add(MaxPooling2D(pool_size=(2, 2)))\n",
    "model_1.add(Flatten())\n",
    "model_1.add(Dropout(0.5))\n",
    "model_1.add(Dense(25, activation='softmax'))  # Adjust the number of units based on the problem (e.g., number of output classes)\n",
    "\n",
    "\n",
    "model_1.summary()"
   ]
  },
  {
   "cell_type": "code",
   "execution_count": 21,
   "metadata": {},
   "outputs": [],
   "source": [
    "from tensorflow.keras.callbacks import EarlyStopping\n",
    "\n",
    "early_stopping = EarlyStopping(monitor='val_accuracy', patience=20, mode='max', verbose=1)\n",
    "# Создаем объект ModelCheckpoint для сохранения лучших весов модели\n",
    "checkpoint = ModelCheckpoint(filepath='/Users/kamilla/Desktop/masters_diploma/SOTA_MODELS/SOTA_1/checkpointHSV.model.keras', \n",
    "                             monitor='val_accuracy', \n",
    "                             save_best_only=True,\n",
    "                            mode='max',\n",
    "                            verbose=1)\n",
    "model_1.compile(optimizer=tf.keras.optimizers.Adam(learning_rate=0.01),\n",
    "              loss='categorical_crossentropy',\n",
    "              metrics=['accuracy'])\n",
    "\n",
    "x_train_prep = np.array(x_train_shuffled)\n",
    "#x_val_prep = np.array(x_val_prep)\n",
    "x_test_prep = np.array(x_test_prep)"
   ]
  },
  {
   "cell_type": "code",
   "execution_count": 22,
   "metadata": {
    "execution": {
     "iopub.execute_input": "2024-03-16T11:23:51.329760Z",
     "iopub.status.busy": "2024-03-16T11:23:51.329302Z",
     "iopub.status.idle": "2024-03-16T11:30:19.352661Z",
     "shell.execute_reply": "2024-03-16T11:30:19.350355Z",
     "shell.execute_reply.started": "2024-03-16T11:23:51.329722Z"
    }
   },
   "outputs": [
    {
     "name": "stdout",
     "output_type": "stream",
     "text": [
      "Epoch 1/200\n",
      "\u001b[1m364/366\u001b[0m \u001b[32m━━━━━━━━━━━━━━━━━━━\u001b[0m\u001b[37m━\u001b[0m \u001b[1m0s\u001b[0m 21ms/step - accuracy: 0.0564 - loss: 17.4995\n",
      "Epoch 1: val_accuracy improved from -inf to 0.10425, saving model to /Users/kamilla/Desktop/masters_diploma/SOTA_MODELS/SOTA_1/checkpointHSV.model.keras\n",
      "\u001b[1m366/366\u001b[0m \u001b[32m━━━━━━━━━━━━━━━━━━━━\u001b[0m\u001b[37m\u001b[0m \u001b[1m10s\u001b[0m 22ms/step - accuracy: 0.0566 - loss: 17.4053 - val_accuracy: 0.1042 - val_loss: 3.2821\n",
      "Epoch 2/200\n",
      "\u001b[1m365/366\u001b[0m \u001b[32m━━━━━━━━━━━━━━━━━━━\u001b[0m\u001b[37m━\u001b[0m \u001b[1m0s\u001b[0m 22ms/step - accuracy: 0.1203 - loss: 3.0200\n",
      "Epoch 2: val_accuracy improved from 0.10425 to 0.13514, saving model to /Users/kamilla/Desktop/masters_diploma/SOTA_MODELS/SOTA_1/checkpointHSV.model.keras\n",
      "\u001b[1m366/366\u001b[0m \u001b[32m━━━━━━━━━━━━━━━━━━━━\u001b[0m\u001b[37m\u001b[0m \u001b[1m8s\u001b[0m 22ms/step - accuracy: 0.1203 - loss: 3.0199 - val_accuracy: 0.1351 - val_loss: 3.0819\n",
      "Epoch 3/200\n",
      "\u001b[1m365/366\u001b[0m \u001b[32m━━━━━━━━━━━━━━━━━━━\u001b[0m\u001b[37m━\u001b[0m \u001b[1m0s\u001b[0m 21ms/step - accuracy: 0.1395 - loss: 2.9346\n",
      "Epoch 3: val_accuracy improved from 0.13514 to 0.16216, saving model to /Users/kamilla/Desktop/masters_diploma/SOTA_MODELS/SOTA_1/checkpointHSV.model.keras\n",
      "\u001b[1m366/366\u001b[0m \u001b[32m━━━━━━━━━━━━━━━━━━━━\u001b[0m\u001b[37m\u001b[0m \u001b[1m8s\u001b[0m 21ms/step - accuracy: 0.1396 - loss: 2.9346 - val_accuracy: 0.1622 - val_loss: 3.0298\n",
      "Epoch 4/200\n",
      "\u001b[1m364/366\u001b[0m \u001b[32m━━━━━━━━━━━━━━━━━━━\u001b[0m\u001b[37m━\u001b[0m \u001b[1m0s\u001b[0m 21ms/step - accuracy: 0.1365 - loss: 2.9555\n",
      "Epoch 4: val_accuracy did not improve from 0.16216\n",
      "\u001b[1m366/366\u001b[0m \u001b[32m━━━━━━━━━━━━━━━━━━━━\u001b[0m\u001b[37m\u001b[0m \u001b[1m8s\u001b[0m 22ms/step - accuracy: 0.1365 - loss: 2.9554 - val_accuracy: 0.1622 - val_loss: 3.1016\n",
      "Epoch 5/200\n",
      "\u001b[1m366/366\u001b[0m \u001b[32m━━━━━━━━━━━━━━━━━━━━\u001b[0m\u001b[37m\u001b[0m \u001b[1m0s\u001b[0m 22ms/step - accuracy: 0.1710 - loss: 2.8604\n",
      "Epoch 5: val_accuracy improved from 0.16216 to 0.19305, saving model to /Users/kamilla/Desktop/masters_diploma/SOTA_MODELS/SOTA_1/checkpointHSV.model.keras\n",
      "\u001b[1m366/366\u001b[0m \u001b[32m━━━━━━━━━━━━━━━━━━━━\u001b[0m\u001b[37m\u001b[0m \u001b[1m8s\u001b[0m 22ms/step - accuracy: 0.1710 - loss: 2.8603 - val_accuracy: 0.1931 - val_loss: 2.9373\n",
      "Epoch 6/200\n",
      "\u001b[1m366/366\u001b[0m \u001b[32m━━━━━━━━━━━━━━━━━━━━\u001b[0m\u001b[37m\u001b[0m \u001b[1m0s\u001b[0m 21ms/step - accuracy: 0.1896 - loss: 2.7956\n",
      "Epoch 6: val_accuracy did not improve from 0.19305\n",
      "\u001b[1m366/366\u001b[0m \u001b[32m━━━━━━━━━━━━━━━━━━━━\u001b[0m\u001b[37m\u001b[0m \u001b[1m8s\u001b[0m 22ms/step - accuracy: 0.1896 - loss: 2.7957 - val_accuracy: 0.1853 - val_loss: 2.9774\n",
      "Epoch 7/200\n",
      "\u001b[1m366/366\u001b[0m \u001b[32m━━━━━━━━━━━━━━━━━━━━\u001b[0m\u001b[37m\u001b[0m \u001b[1m0s\u001b[0m 23ms/step - accuracy: 0.2408 - loss: 2.6504\n",
      "Epoch 7: val_accuracy improved from 0.19305 to 0.29730, saving model to /Users/kamilla/Desktop/masters_diploma/SOTA_MODELS/SOTA_1/checkpointHSV.model.keras\n",
      "\u001b[1m366/366\u001b[0m \u001b[32m━━━━━━━━━━━━━━━━━━━━\u001b[0m\u001b[37m\u001b[0m \u001b[1m9s\u001b[0m 24ms/step - accuracy: 0.2410 - loss: 2.6501 - val_accuracy: 0.2973 - val_loss: 2.7117\n",
      "Epoch 8/200\n",
      "\u001b[1m365/366\u001b[0m \u001b[32m━━━━━━━━━━━━━━━━━━━\u001b[0m\u001b[37m━\u001b[0m \u001b[1m0s\u001b[0m 25ms/step - accuracy: 0.3813 - loss: 2.2328\n",
      "Epoch 8: val_accuracy did not improve from 0.29730\n",
      "\u001b[1m366/366\u001b[0m \u001b[32m━━━━━━━━━━━━━━━━━━━━\u001b[0m\u001b[37m\u001b[0m \u001b[1m9s\u001b[0m 25ms/step - accuracy: 0.3812 - loss: 2.2329 - val_accuracy: 0.1583 - val_loss: 3.1233\n",
      "Epoch 9/200\n",
      "\u001b[1m365/366\u001b[0m \u001b[32m━━━━━━━━━━━━━━━━━━━\u001b[0m\u001b[37m━\u001b[0m \u001b[1m0s\u001b[0m 21ms/step - accuracy: 0.1707 - loss: 2.8121\n",
      "Epoch 9: val_accuracy did not improve from 0.29730\n",
      "\u001b[1m366/366\u001b[0m \u001b[32m━━━━━━━━━━━━━━━━━━━━\u001b[0m\u001b[37m\u001b[0m \u001b[1m8s\u001b[0m 21ms/step - accuracy: 0.1707 - loss: 2.8119 - val_accuracy: 0.1892 - val_loss: 3.0208\n",
      "Epoch 10/200\n",
      "\u001b[1m365/366\u001b[0m \u001b[32m━━━━━━━━━━━━━━━━━━━\u001b[0m\u001b[37m━\u001b[0m \u001b[1m0s\u001b[0m 21ms/step - accuracy: 0.2425 - loss: 2.6115\n",
      "Epoch 10: val_accuracy did not improve from 0.29730\n",
      "\u001b[1m366/366\u001b[0m \u001b[32m━━━━━━━━━━━━━━━━━━━━\u001b[0m\u001b[37m\u001b[0m \u001b[1m8s\u001b[0m 21ms/step - accuracy: 0.2426 - loss: 2.6112 - val_accuracy: 0.1892 - val_loss: 2.9590\n",
      "Epoch 11/200\n",
      "\u001b[1m364/366\u001b[0m \u001b[32m━━━━━━━━━━━━━━━━━━━\u001b[0m\u001b[37m━\u001b[0m \u001b[1m0s\u001b[0m 21ms/step - accuracy: 0.1975 - loss: 2.7458\n",
      "Epoch 11: val_accuracy did not improve from 0.29730\n",
      "\u001b[1m366/366\u001b[0m \u001b[32m━━━━━━━━━━━━━━━━━━━━\u001b[0m\u001b[37m\u001b[0m \u001b[1m8s\u001b[0m 21ms/step - accuracy: 0.1977 - loss: 2.7455 - val_accuracy: 0.2394 - val_loss: 2.8990\n",
      "Epoch 12/200\n",
      "\u001b[1m365/366\u001b[0m \u001b[32m━━━━━━━━━━━━━━━━━━━\u001b[0m\u001b[37m━\u001b[0m \u001b[1m0s\u001b[0m 21ms/step - accuracy: 0.3155 - loss: 2.3919\n",
      "Epoch 12: val_accuracy improved from 0.29730 to 0.66023, saving model to /Users/kamilla/Desktop/masters_diploma/SOTA_MODELS/SOTA_1/checkpointHSV.model.keras\n",
      "\u001b[1m366/366\u001b[0m \u001b[32m━━━━━━━━━━━━━━━━━━━━\u001b[0m\u001b[37m\u001b[0m \u001b[1m8s\u001b[0m 21ms/step - accuracy: 0.3157 - loss: 2.3913 - val_accuracy: 0.6602 - val_loss: 1.6822\n",
      "Epoch 13/200\n",
      "\u001b[1m365/366\u001b[0m \u001b[32m━━━━━━━━━━━━━━━━━━━\u001b[0m\u001b[37m━\u001b[0m \u001b[1m0s\u001b[0m 20ms/step - accuracy: 0.4608 - loss: 1.9348\n",
      "Epoch 13: val_accuracy improved from 0.66023 to 0.71815, saving model to /Users/kamilla/Desktop/masters_diploma/SOTA_MODELS/SOTA_1/checkpointHSV.model.keras\n",
      "\u001b[1m366/366\u001b[0m \u001b[32m━━━━━━━━━━━━━━━━━━━━\u001b[0m\u001b[37m\u001b[0m \u001b[1m8s\u001b[0m 21ms/step - accuracy: 0.4609 - loss: 1.9346 - val_accuracy: 0.7181 - val_loss: 1.4330\n",
      "Epoch 14/200\n",
      "\u001b[1m366/366\u001b[0m \u001b[32m━━━━━━━━━━━━━━━━━━━━\u001b[0m\u001b[37m\u001b[0m \u001b[1m0s\u001b[0m 16ms/step - accuracy: 0.4632 - loss: 1.9161\n",
      "Epoch 14: val_accuracy did not improve from 0.71815\n",
      "\u001b[1m366/366\u001b[0m \u001b[32m━━━━━━━━━━━━━━━━━━━━\u001b[0m\u001b[37m\u001b[0m \u001b[1m6s\u001b[0m 16ms/step - accuracy: 0.4632 - loss: 1.9162 - val_accuracy: 0.6795 - val_loss: 1.5529\n",
      "Epoch 15/200\n",
      "\u001b[1m366/366\u001b[0m \u001b[32m━━━━━━━━━━━━━━━━━━━━\u001b[0m\u001b[37m\u001b[0m \u001b[1m0s\u001b[0m 12ms/step - accuracy: 0.4586 - loss: 1.9556\n",
      "Epoch 15: val_accuracy did not improve from 0.71815\n",
      "\u001b[1m366/366\u001b[0m \u001b[32m━━━━━━━━━━━━━━━━━━━━\u001b[0m\u001b[37m\u001b[0m \u001b[1m5s\u001b[0m 12ms/step - accuracy: 0.4586 - loss: 1.9556 - val_accuracy: 0.6911 - val_loss: 1.4772\n",
      "Epoch 16/200\n",
      "\u001b[1m365/366\u001b[0m \u001b[32m━━━━━━━━━━━━━━━━━━━\u001b[0m\u001b[37m━\u001b[0m \u001b[1m0s\u001b[0m 16ms/step - accuracy: 0.4717 - loss: 1.9069\n",
      "Epoch 16: val_accuracy did not improve from 0.71815\n",
      "\u001b[1m366/366\u001b[0m \u001b[32m━━━━━━━━━━━━━━━━━━━━\u001b[0m\u001b[37m\u001b[0m \u001b[1m6s\u001b[0m 16ms/step - accuracy: 0.4717 - loss: 1.9068 - val_accuracy: 0.7066 - val_loss: 1.5227\n",
      "Epoch 17/200\n",
      "\u001b[1m364/366\u001b[0m \u001b[32m━━━━━━━━━━━━━━━━━━━\u001b[0m\u001b[37m━\u001b[0m \u001b[1m0s\u001b[0m 14ms/step - accuracy: 0.4916 - loss: 1.8484\n",
      "Epoch 17: val_accuracy did not improve from 0.71815\n",
      "\u001b[1m366/366\u001b[0m \u001b[32m━━━━━━━━━━━━━━━━━━━━\u001b[0m\u001b[37m\u001b[0m \u001b[1m5s\u001b[0m 14ms/step - accuracy: 0.4915 - loss: 1.8485 - val_accuracy: 0.7143 - val_loss: 1.4308\n",
      "Epoch 18/200\n",
      "\u001b[1m364/366\u001b[0m \u001b[32m━━━━━━━━━━━━━━━━━━━\u001b[0m\u001b[37m━\u001b[0m \u001b[1m0s\u001b[0m 14ms/step - accuracy: 0.5112 - loss: 1.7789\n",
      "Epoch 18: val_accuracy did not improve from 0.71815\n",
      "\u001b[1m366/366\u001b[0m \u001b[32m━━━━━━━━━━━━━━━━━━━━\u001b[0m\u001b[37m\u001b[0m \u001b[1m5s\u001b[0m 14ms/step - accuracy: 0.5112 - loss: 1.7788 - val_accuracy: 0.6332 - val_loss: 1.6499\n",
      "Epoch 19/200\n",
      "\u001b[1m364/366\u001b[0m \u001b[32m━━━━━━━━━━━━━━━━━━━\u001b[0m\u001b[37m━\u001b[0m \u001b[1m0s\u001b[0m 16ms/step - accuracy: 0.4669 - loss: 1.9316\n",
      "Epoch 19: val_accuracy did not improve from 0.71815\n",
      "\u001b[1m366/366\u001b[0m \u001b[32m━━━━━━━━━━━━━━━━━━━━\u001b[0m\u001b[37m\u001b[0m \u001b[1m6s\u001b[0m 16ms/step - accuracy: 0.4671 - loss: 1.9310 - val_accuracy: 0.7143 - val_loss: 1.3070\n",
      "Epoch 20/200\n",
      "\u001b[1m364/366\u001b[0m \u001b[32m━━━━━━━━━━━━━━━━━━━\u001b[0m\u001b[37m━\u001b[0m \u001b[1m0s\u001b[0m 16ms/step - accuracy: 0.4715 - loss: 1.9171\n",
      "Epoch 20: val_accuracy did not improve from 0.71815\n",
      "\u001b[1m366/366\u001b[0m \u001b[32m━━━━━━━━━━━━━━━━━━━━\u001b[0m\u001b[37m\u001b[0m \u001b[1m6s\u001b[0m 16ms/step - accuracy: 0.4716 - loss: 1.9165 - val_accuracy: 0.6988 - val_loss: 1.4286\n",
      "Epoch 21/200\n",
      "\u001b[1m364/366\u001b[0m \u001b[32m━━━━━━━━━━━━━━━━━━━\u001b[0m\u001b[37m━\u001b[0m \u001b[1m0s\u001b[0m 17ms/step - accuracy: 0.4809 - loss: 1.8908\n",
      "Epoch 21: val_accuracy did not improve from 0.71815\n",
      "\u001b[1m366/366\u001b[0m \u001b[32m━━━━━━━━━━━━━━━━━━━━\u001b[0m\u001b[37m\u001b[0m \u001b[1m6s\u001b[0m 17ms/step - accuracy: 0.4808 - loss: 1.8910 - val_accuracy: 0.6911 - val_loss: 1.5802\n",
      "Epoch 22/200\n",
      "\u001b[1m365/366\u001b[0m \u001b[32m━━━━━━━━━━━━━━━━━━━\u001b[0m\u001b[37m━\u001b[0m \u001b[1m0s\u001b[0m 14ms/step - accuracy: 0.4532 - loss: 1.9641\n",
      "Epoch 22: val_accuracy did not improve from 0.71815\n",
      "\u001b[1m366/366\u001b[0m \u001b[32m━━━━━━━━━━━━━━━━━━━━\u001b[0m\u001b[37m\u001b[0m \u001b[1m5s\u001b[0m 15ms/step - accuracy: 0.4532 - loss: 1.9640 - val_accuracy: 0.6834 - val_loss: 1.5005\n",
      "Epoch 23/200\n",
      "\u001b[1m366/366\u001b[0m \u001b[32m━━━━━━━━━━━━━━━━━━━━\u001b[0m\u001b[37m\u001b[0m \u001b[1m0s\u001b[0m 13ms/step - accuracy: 0.4675 - loss: 1.9283\n",
      "Epoch 23: val_accuracy did not improve from 0.71815\n",
      "\u001b[1m366/366\u001b[0m \u001b[32m━━━━━━━━━━━━━━━━━━━━\u001b[0m\u001b[37m\u001b[0m \u001b[1m5s\u001b[0m 13ms/step - accuracy: 0.4675 - loss: 1.9284 - val_accuracy: 0.4865 - val_loss: 1.9602\n"
     ]
    },
    {
     "name": "stdout",
     "output_type": "stream",
     "text": [
      "Epoch 24/200\n",
      "\u001b[1m366/366\u001b[0m \u001b[32m━━━━━━━━━━━━━━━━━━━━\u001b[0m\u001b[37m\u001b[0m \u001b[1m0s\u001b[0m 13ms/step - accuracy: 0.4439 - loss: 2.0072\n",
      "Epoch 24: val_accuracy did not improve from 0.71815\n",
      "\u001b[1m366/366\u001b[0m \u001b[32m━━━━━━━━━━━━━━━━━━━━\u001b[0m\u001b[37m\u001b[0m \u001b[1m5s\u001b[0m 13ms/step - accuracy: 0.4440 - loss: 2.0071 - val_accuracy: 0.7027 - val_loss: 1.4844\n",
      "Epoch 25/200\n",
      "\u001b[1m364/366\u001b[0m \u001b[32m━━━━━━━━━━━━━━━━━━━\u001b[0m\u001b[37m━\u001b[0m \u001b[1m0s\u001b[0m 12ms/step - accuracy: 0.4685 - loss: 1.9062\n",
      "Epoch 25: val_accuracy did not improve from 0.71815\n",
      "\u001b[1m366/366\u001b[0m \u001b[32m━━━━━━━━━━━━━━━━━━━━\u001b[0m\u001b[37m\u001b[0m \u001b[1m5s\u001b[0m 13ms/step - accuracy: 0.4685 - loss: 1.9063 - val_accuracy: 0.6988 - val_loss: 1.3908\n",
      "Epoch 26/200\n",
      "\u001b[1m365/366\u001b[0m \u001b[32m━━━━━━━━━━━━━━━━━━━\u001b[0m\u001b[37m━\u001b[0m \u001b[1m0s\u001b[0m 14ms/step - accuracy: 0.4644 - loss: 1.9326\n",
      "Epoch 26: val_accuracy did not improve from 0.71815\n",
      "\u001b[1m366/366\u001b[0m \u001b[32m━━━━━━━━━━━━━━━━━━━━\u001b[0m\u001b[37m\u001b[0m \u001b[1m5s\u001b[0m 14ms/step - accuracy: 0.4644 - loss: 1.9327 - val_accuracy: 0.6448 - val_loss: 1.7317\n",
      "Epoch 27/200\n",
      "\u001b[1m365/366\u001b[0m \u001b[32m━━━━━━━━━━━━━━━━━━━\u001b[0m\u001b[37m━\u001b[0m \u001b[1m0s\u001b[0m 14ms/step - accuracy: 0.4639 - loss: 1.9229\n",
      "Epoch 27: val_accuracy did not improve from 0.71815\n",
      "\u001b[1m366/366\u001b[0m \u001b[32m━━━━━━━━━━━━━━━━━━━━\u001b[0m\u001b[37m\u001b[0m \u001b[1m5s\u001b[0m 14ms/step - accuracy: 0.4639 - loss: 1.9229 - val_accuracy: 0.6757 - val_loss: 1.4589\n",
      "Epoch 28/200\n",
      "\u001b[1m364/366\u001b[0m \u001b[32m━━━━━━━━━━━━━━━━━━━\u001b[0m\u001b[37m━\u001b[0m \u001b[1m0s\u001b[0m 14ms/step - accuracy: 0.4681 - loss: 1.9204\n",
      "Epoch 28: val_accuracy did not improve from 0.71815\n",
      "\u001b[1m366/366\u001b[0m \u001b[32m━━━━━━━━━━━━━━━━━━━━\u001b[0m\u001b[37m\u001b[0m \u001b[1m5s\u001b[0m 14ms/step - accuracy: 0.4681 - loss: 1.9203 - val_accuracy: 0.4942 - val_loss: 1.9959\n",
      "Epoch 29/200\n",
      "\u001b[1m364/366\u001b[0m \u001b[32m━━━━━━━━━━━━━━━━━━━\u001b[0m\u001b[37m━\u001b[0m \u001b[1m0s\u001b[0m 14ms/step - accuracy: 0.4558 - loss: 1.9637\n",
      "Epoch 29: val_accuracy did not improve from 0.71815\n",
      "\u001b[1m366/366\u001b[0m \u001b[32m━━━━━━━━━━━━━━━━━━━━\u001b[0m\u001b[37m\u001b[0m \u001b[1m5s\u001b[0m 14ms/step - accuracy: 0.4559 - loss: 1.9633 - val_accuracy: 0.6718 - val_loss: 1.4991\n",
      "Epoch 30/200\n",
      "\u001b[1m363/366\u001b[0m \u001b[32m━━━━━━━━━━━━━━━━━━━\u001b[0m\u001b[37m━\u001b[0m \u001b[1m0s\u001b[0m 14ms/step - accuracy: 0.4645 - loss: 1.9231\n",
      "Epoch 30: val_accuracy did not improve from 0.71815\n",
      "\u001b[1m366/366\u001b[0m \u001b[32m━━━━━━━━━━━━━━━━━━━━\u001b[0m\u001b[37m\u001b[0m \u001b[1m5s\u001b[0m 14ms/step - accuracy: 0.4645 - loss: 1.9231 - val_accuracy: 0.6757 - val_loss: 1.4384\n",
      "Epoch 31/200\n",
      "\u001b[1m363/366\u001b[0m \u001b[32m━━━━━━━━━━━━━━━━━━━\u001b[0m\u001b[37m━\u001b[0m \u001b[1m0s\u001b[0m 14ms/step - accuracy: 0.4565 - loss: 1.9515\n",
      "Epoch 31: val_accuracy did not improve from 0.71815\n",
      "\u001b[1m366/366\u001b[0m \u001b[32m━━━━━━━━━━━━━━━━━━━━\u001b[0m\u001b[37m\u001b[0m \u001b[1m5s\u001b[0m 14ms/step - accuracy: 0.4564 - loss: 1.9517 - val_accuracy: 0.6641 - val_loss: 1.4964\n",
      "Epoch 32/200\n",
      "\u001b[1m362/366\u001b[0m \u001b[32m━━━━━━━━━━━━━━━━━━━\u001b[0m\u001b[37m━\u001b[0m \u001b[1m0s\u001b[0m 13ms/step - accuracy: 0.4709 - loss: 1.8889\n",
      "Epoch 32: val_accuracy did not improve from 0.71815\n",
      "\u001b[1m366/366\u001b[0m \u001b[32m━━━━━━━━━━━━━━━━━━━━\u001b[0m\u001b[37m\u001b[0m \u001b[1m5s\u001b[0m 13ms/step - accuracy: 0.4708 - loss: 1.8893 - val_accuracy: 0.6564 - val_loss: 1.6014\n",
      "Epoch 33/200\n",
      "\u001b[1m363/366\u001b[0m \u001b[32m━━━━━━━━━━━━━━━━━━━\u001b[0m\u001b[37m━\u001b[0m \u001b[1m0s\u001b[0m 15ms/step - accuracy: 0.4617 - loss: 1.9145\n",
      "Epoch 33: val_accuracy did not improve from 0.71815\n",
      "\u001b[1m366/366\u001b[0m \u001b[32m━━━━━━━━━━━━━━━━━━━━\u001b[0m\u001b[37m\u001b[0m \u001b[1m5s\u001b[0m 15ms/step - accuracy: 0.4618 - loss: 1.9145 - val_accuracy: 0.6680 - val_loss: 1.5100\n",
      "Epoch 33: early stopping\n"
     ]
    }
   ],
   "source": [
    "history = model_1.fit(\n",
    "    x=x_train_prep,\n",
    "    y=y_train_cat, \n",
    "    batch_size=64,\n",
    "    epochs=200,\n",
    "    verbose=1,\n",
    "    validation_data=(x_test_prep, y_test_cat),\n",
    "    validation_batch_size=32,\n",
    "    callbacks=[checkpoint, early_stopping]\n",
    ")"
   ]
  },
  {
   "cell_type": "code",
   "execution_count": 23,
   "metadata": {},
   "outputs": [
    {
     "data": {
      "image/png": "[encoded data removed]",
      "text/plain": [
       "<Figure size 640x480 with 1 Axes>"
      ]
     },
     "metadata": {},
     "output_type": "display_data"
    }
   ],
   "source": [
    "history_dict = history.history\n",
    "loss_values = history_dict['loss']\n",
    "val_loss_values = history_dict['val_loss']\n",
    "epochs = range(1, 33+1)\n",
    "#print(len(epochs))\n",
    "plt.plot(epochs, loss_values, '-', label='Training loss', color='r')\n",
    "plt.plot(epochs, val_loss_values, '-', label='Validation loss', color='g') \n",
    "plt.title('Training and validation loss')\n",
    "plt.xlabel('Epochs')\n",
    "plt.ylabel('Loss')\n",
    "plt.legend()\n",
    "plt.show()"
   ]
  },
  {
   "cell_type": "code",
   "execution_count": 24,
   "metadata": {},
   "outputs": [
    {
     "name": "stdout",
     "output_type": "stream",
     "text": [
      "\u001b[1m9/9\u001b[0m \u001b[32m━━━━━━━━━━━━━━━━━━━━\u001b[0m\u001b[37m\u001b[0m \u001b[1m0s\u001b[0m 9ms/step\n"
     ]
    }
   ],
   "source": [
    "y_pred = model_1.predict(x_test_prep)\n",
    "#y_pred_val = model.predict(x_val_prep)\n",
    "\n",
    "y_preds_class_1 = np.argmax(y_pred, axis=1).tolist()\n",
    "#y_preds_class_val = np.argmax(y_pred_val, axis=1).tolist()\n"
   ]
  },
  {
   "cell_type": "code",
   "execution_count": 25,
   "metadata": {},
   "outputs": [
    {
     "name": "stdout",
     "output_type": "stream",
     "text": [
      "Точность на тесте (без аугументации): 0.667953667953668\n"
     ]
    }
   ],
   "source": [
    "accuracy_test = accuracy_score(y_test_encoded, y_preds_class_1)\n",
    "print(f\"Точность на тесте (без аугументации): {accuracy_test}\")\n",
    "\n",
    "#accuracy_val = accuracy_score(y_val_encoded, y_preds_class_val)\n",
    "#print(f\"Точность на валидации: {accuracy_val}\")"
   ]
  },
  {
   "cell_type": "code",
   "execution_count": 26,
   "metadata": {},
   "outputs": [
    {
     "name": "stdout",
     "output_type": "stream",
     "text": [
      "Precision: 0.6819979516408089\n",
      "Recall: 0.667953667953668\n",
      "F1-score: 0.6574986237353421\n"
     ]
    }
   ],
   "source": [
    "from sklearn.metrics import precision_score, recall_score, f1_score\n",
    "\n",
    "precision = precision_score(y_test_encoded, y_preds_class_1, average='weighted')\n",
    "recall = recall_score(y_test_encoded, y_preds_class_1, average='weighted')\n",
    "f1 = f1_score(y_test_encoded, y_preds_class_1, average='weighted')\n",
    "\n",
    "print(\"Precision:\", precision)\n",
    "print(\"Recall:\", recall)\n",
    "print(\"F1-score:\", f1)\n",
    "print(classification_report(y_test_encoded, y_preds_class_1)) "
   ]
  }
 ],
 "metadata": {
  "kaggle": {
   "accelerator": "nvidiaTeslaT4",
   "dataSources": [
    {
     "datasetId": 23079,
     "sourceId": 29550,
     "sourceType": "datasetVersion"
    }
   ],
   "dockerImageVersionId": 30664,
   "isGpuEnabled": true,
   "isInternetEnabled": true,
   "language": "python",
   "sourceType": "notebook"
  },
  "kernelspec": {
   "display_name": "Python 3 (ipykernel)",
   "language": "python",
   "name": "python3"
  },
  "language_info": {
   "codemirror_mode": {
    "name": "ipython",
    "version": 3
   },
   "file_extension": ".py",
   "mimetype": "text/x-python",
   "name": "python",
   "nbconvert_exporter": "python",
   "pygments_lexer": "ipython3",
   "version": "3.11.6"
  }
 },
 "nbformat": 4,
 "nbformat_minor": 4
}
